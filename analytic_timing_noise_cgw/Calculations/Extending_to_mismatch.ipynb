{
 "cells": [
  {
   "cell_type": "code",
   "execution_count": 1,
   "metadata": {
    "collapsed": false
   },
   "outputs": [],
   "source": [
    "import numpy as np\n",
    "import matplotlib.pyplot as plt\n",
    "%matplotlib inline\n",
    "from sympy import *\n",
    "init_printing()\n",
    "\n",
    "i, j, k, l, m, N = symbols(' i j k l m N')\n",
    "dT = symbols('\\Delta{T}')"
   ]
  },
  {
   "cell_type": "markdown",
   "metadata": {},
   "source": [
    "# Random walk in Phase\n",
    "\n",
    "We begin with the simplest case of a randown walk in the phase\n",
    "\\begin{align}\n",
    "\\Delta \\phi_{i} = \\sum_{j=1}{i}\\delta \\phi_{j}\n",
    "\\end{align}"
   ]
  },
  {
   "cell_type": "markdown",
   "metadata": {},
   "source": [
    "## Extending to mismatch\n",
    "We now want to attempt to extend the Random walk to quantities in the mismatch. \n",
    "The simplests case is the phase random walk for which we have no effect on higher\n",
    "order terms. We have not minised with respect to the mismatch but to the square\n",
    "sum but they should'nt be too different..hopefully. \n"
   ]
  },
  {
   "cell_type": "markdown",
   "metadata": {},
   "source": [
    "## 0th order for phase"
   ]
  },
  {
   "cell_type": "code",
   "execution_count": 2,
   "metadata": {
    "collapsed": false
   },
   "outputs": [
    {
     "data": {
      "image/png": "[encoded data removed]",
      "text/latex": [
       "$$\\frac{1}{N} \\left(\\frac{N^{2}}{3} - N i + \\frac{N}{2} + \\frac{i^{2}}{2} - \\frac{i}{2} + \\frac{j^{2}}{2} - \\frac{j}{2} + \\frac{1}{6}\\right)$$"
      ],
      "text/plain": [
       " 2              2        2        \n",
       "N          N   i    i   j    j   1\n",
       "── - N⋅i + ─ + ── - ─ + ── - ─ + ─\n",
       "3          2   2    2   2    2   6\n",
       "──────────────────────────────────\n",
       "                N                 "
      ]
     },
     "execution_count": 2,
     "metadata": {},
     "output_type": "execute_result"
    }
   ],
   "source": [
    "C_tilde_ik_k0 = N**-1\n",
    "C_tilde_jl_k0 = N**-1\n",
    "\n",
    "def Expectation_ij_k0(Eij, Eji):\n",
    "    \"\"\" Returns k0 fitted expression in terms of i, j\n",
    "\n",
    "    Note it is only the numeric part e.g we drop the sigma so for a \n",
    "    pure random walk. Eij = j\n",
    "    \n",
    "    \"\"\"\n",
    "    Ekj = Eij.subs(i, k) # j\n",
    "    Ejk = Eji.subs(i, k) # k\n",
    "    Eil = Eij.subs(j, l) # l\n",
    "    Eli = Eji.subs(j, l) # i\n",
    "    Ekl = Eij.subs(i, k).subs(j, l) # l\n",
    "    Elk = Eji.subs(i, k).subs(j, l) # k\n",
    "    \n",
    "    return (Eij - \n",
    "          (summation(C_tilde_ik_k0 * Ejk, (k, 1, j-1)) + \n",
    "           summation(C_tilde_ik_k0 * Ekj, (k, j, N)) +\n",
    "           summation(C_tilde_jl_k0 * Eil, (l, 1, i-1)) +\n",
    "           summation(C_tilde_jl_k0 * Eli, (l, i, N))) + \n",
    "           summation(\n",
    "               summation(C_tilde_ik_k0*C_tilde_jl_k0 * Ekl, (l , 1, k-1)) + \n",
    "               summation(C_tilde_ik_k0*C_tilde_jl_k0 * Elk, (l , k, N)), (k, 1, N))\n",
    "           )\n",
    "\n",
    "Exp_dP0idP0j_k0 = Expectation_ij_k0(j, i)\n",
    "Exp_dP0idP0j_k0 = Exp_dP0idP0j_k0.simplify()\n",
    "Exp_dP0idP0j_k0"
   ]
  },
  {
   "cell_type": "code",
   "execution_count": 3,
   "metadata": {
    "collapsed": false
   },
   "outputs": [
    {
     "data": {
      "image/png": "[encoded data removed]",
      "text/latex": [
       "$$\\frac{N^{2}}{6} - \\frac{1}{6}$$"
      ],
      "text/plain": [
       " 2    \n",
       "N    1\n",
       "── - ─\n",
       "6    6"
      ]
     },
     "execution_count": 3,
     "metadata": {},
     "output_type": "execute_result"
    }
   ],
   "source": [
    "Exp_dP0i2_k0 = Exp_dP0idP0j_k0.subs(j, i).simplify()\n",
    "SUM_Exp_dP0i2_k0 = summation(Exp_dP0i2_k0, (i, 1, N)).simplify()\n",
    "SUM_Exp_dP0i2_k0"
   ]
  },
  {
   "cell_type": "code",
   "execution_count": 4,
   "metadata": {
    "collapsed": false
   },
   "outputs": [
    {
     "data": {
      "image/png": "[encoded data removed]",
      "text/latex": [
       "$$- \\frac{N^{2}}{12} + \\frac{1}{12}$$"
      ],
      "text/plain": [
       "   2     \n",
       "  N    1 \n",
       "- ── + ──\n",
       "  12   12"
      ]
     },
     "execution_count": 4,
     "metadata": {},
     "output_type": "execute_result"
    }
   ],
   "source": [
    "SUM_Exp_dP0idP0j_k0 = summation(Exp_dP0idP0j_k0, (j, 1, i-1), (i, 1, N)).simplify()\n",
    "SUM_Exp_dP0idP0j_k0"
   ]
  },
  {
   "cell_type": "code",
   "execution_count": 5,
   "metadata": {
    "collapsed": false
   },
   "outputs": [
    {
     "data": {
      "image/png": "[encoded data removed]",
      "text/latex": [
       "$$\\frac{N^{2} - 1}{6 N}$$"
      ],
      "text/plain": [
       " 2    \n",
       "N  - 1\n",
       "──────\n",
       " 6⋅N  "
      ]
     },
     "execution_count": 5,
     "metadata": {},
     "output_type": "execute_result"
    }
   ],
   "source": [
    "Ninv = 1/N\n",
    "\n",
    "gE00 = (Ninv) - (Ninv)**2\n",
    "gNE00 = - (Ninv)**2\n",
    "\n",
    "E_m = (gE00 * SUM_Exp_dP0i2_k0 + 2 * gNE00 * SUM_Exp_dP0idP0j_k0).simplify()\n",
    "E_m"
   ]
  },
  {
   "cell_type": "markdown",
   "metadata": {},
   "source": [
    "## First order phase"
   ]
  },
  {
   "cell_type": "code",
   "execution_count": 6,
   "metadata": {
    "collapsed": false
   },
   "outputs": [
    {
     "data": {
      "image/png": "[encoded data removed]",
      "text/latex": [
       "$$\\frac{N^{2} - 4}{15 N}$$"
      ],
      "text/plain": [
       " 2    \n",
       "N  - 4\n",
       "──────\n",
       " 15⋅N "
      ]
     },
     "execution_count": 6,
     "metadata": {},
     "output_type": "execute_result"
    }
   ],
   "source": [
    "xTx1 = Matrix([[N, summation(i*dT, (i, 1, N))],\n",
    "              [summation((i*dT), (i, 1, N)), summation((i*dT)**2, (i, 1, N)), ]\n",
    "              ])\n",
    "\n",
    "C1 = (simplify(xTx1)).inv().simplify()\n",
    "\n",
    "C1_tilde_ik = (C1[0, 0] + \n",
    "              C1[1, 0] * dT * (i + k) + \n",
    "              C1[1, 1] * dT**2 * i * k \n",
    "              )\n",
    "\n",
    "C1_tilde_jl = C1_tilde_ik .subs(i, j).subs(k, l)\n",
    "\n",
    "Exp_dP0idP0j_k1 = (j - (summation(C1_tilde_ik * k, (k, 1, j)) + summation(C1_tilde_ik * j, (k, j+1, N)) +\n",
    "                       summation(C1_tilde_jl * l, (l, 1, i)) + summation(C1_tilde_jl * i, (l, i+1, N)))\n",
    "              + summation(\n",
    "                    summation(C1_tilde_ik*C1_tilde_jl * l, (l, 1, k)) \n",
    "                    + summation(C1_tilde_ik*C1_tilde_jl * k, (l, k+1, N)),\n",
    "                    (k, 1, N)))\n",
    "\n",
    "Exp_dP0idP0j_k1 = Exp_dP0idP0j_k1.simplify()\n",
    "Exp_dP0idP0j_k1\n",
    "Exp_dP0i2_k1 = Exp_dP0idP0j_k1.subs(j, i).simplify()\n",
    "SUM_Exp_dP0i2_k1 = summation(Exp_dP0i2_k1, (i, 1, N)).simplify()\n",
    "SUM_Exp_dP0i2_k1\n",
    "SUM_Exp_dP0idP0j_k1 = summation(Exp_dP0idP0j_k1, (j, 1, i-1), (i, 1, N)).simplify()\n",
    "SUM_Exp_dP0idP0j_k1\n",
    "Ninv = 1/N\n",
    "\n",
    "gE00 = (Ninv) - (Ninv)**2\n",
    "gNE00 = - (Ninv)**2\n",
    "\n",
    "E_m = (gE00 * SUM_Exp_dP0i2_k1 + 2 * gNE00 * SUM_Exp_dP0idP0j_k1).simplify()\n",
    "E_m"
   ]
  },
  {
   "cell_type": "markdown",
   "metadata": {},
   "source": [
    "## Second order fitting "
   ]
  },
  {
   "cell_type": "code",
   "execution_count": 9,
   "metadata": {
    "collapsed": false
   },
   "outputs": [],
   "source": [
    "def Expectation_ij_k2(Eij, Eji, A=2, B=2):\n",
    "    \"\"\" Returns k2 fitted expression in terms of i, j\n",
    "\n",
    "    Note it is only the numeric part e.g we drop the sigma so for a \n",
    "    pure random walk. Eij = j\n",
    "    \n",
    "    A = 1, 2 \n",
    "    B = 1, 2 (fitting orders of the two E)\n",
    "    \n",
    "    \"\"\"\n",
    "    Ekj = Eij.subs(i, k) # j\n",
    "    Ejk = Eji.subs(i, k) # k\n",
    "    Eil = Eij.subs(j, l) # l\n",
    "    Eli = Eji.subs(j, l) # i\n",
    "    Ekl = Eij.subs(i, k).subs(j, l) # l\n",
    "    Elk = Eji.subs(i, k).subs(j, l) # k\n",
    "    \n",
    "    CA_tilde_ik = [C1_tilde_ik, C2_tilde_ik][A-1] # Python is zero based\n",
    "    CB_tilde_jl = [C1_tilde_jl, C2_tilde_jl][B-1]\n",
    "    \n",
    "    return (Eij - \n",
    "          (summation(CA_tilde_ik * Ejk, (k, 1, j)) + \n",
    "           summation(CA_tilde_ik * Ekj, (k, j+1, N)) +\n",
    "           summation(CB_tilde_jl * Eil, (l, 1, i)) +\n",
    "           summation(CB_tilde_jl * Eli, (l, i+1, N))) + \n",
    "           summation(\n",
    "               summation(CA_tilde_ik*CB_tilde_jl * Ekl, (l , 1, k)) + \n",
    "               summation(CA_tilde_ik*CB_tilde_jl * Elk, (l , k+1, N)), (k, 1, N))\n",
    "           )\n",
    "\n",
    "xTx2 = Matrix([[N, summation(i*dT, (i, 1, N)), summation((i*dT)**2, (i, 1, N))],\n",
    "              [summation((i*dT), (i, 1, N)), summation((i*dT)**2, (i, 1, N)), summation((i*dT)**3, (i, 1, N))],\n",
    "              [summation((i*dT)**2, (i, 1, N)), summation((i*dT)**3, (i, 1, N)), summation((i*dT)**4, (i, 1, N))]\n",
    "              ])\n",
    "\n",
    "C2 = (simplify(xTx2)).inv().simplify()\n",
    "D2 = Matrix(np.zeros((3, 3)))\n",
    "\n",
    "for L in range(3):\n",
    "    for M in range(3):\n",
    "        c2 = C2[L, M]\n",
    "        D2[L, M] = c2.factor()\n",
    "        \n",
    "C2 = D2\n",
    "C2_tilde_ik = (C2[0, 0] + \n",
    "              C2[1, 0] * dT * (i + k) + \n",
    "              C2[0, 2] * dT**2 * (i**2 + k**2) + \n",
    "              C2[1, 2] * dT**3 * (i*k**2 + i**2 * k) + \n",
    "              C2[1, 1] * dT**2 * i * k + \n",
    "              C2[2, 2] * dT**4 * (i*k)**2)\n",
    "\n",
    "C2_tilde_jl = C2_tilde_ik .subs(i, j).subs(k, l)"
   ]
  },
  {
   "cell_type": "markdown",
   "metadata": {},
   "source": [
    "## RW in phase"
   ]
  },
  {
   "cell_type": "code",
   "execution_count": 10,
   "metadata": {
    "collapsed": false
   },
   "outputs": [
    {
     "data": {
      "image/png": "[encoded data removed]",
      "text/latex": [
       "$$\\frac{1}{70 N \\left(N^{4} - 5 N^{2} + 4\\right)} \\left(6 N^{6} - 92 N^{5} i - 22 N^{5} j + 57 N^{5} + 330 N^{4} i^{2} + 384 N^{4} i j - 522 N^{4} i + 330 N^{4} j^{2} - 522 N^{4} j + 213 N^{4} - 420 N^{3} i^{3} - 1560 N^{3} i^{2} j + 1410 N^{3} i^{2} - 1560 N^{3} i j^{2} + 3120 N^{3} i j - 1214 N^{3} i - 420 N^{3} j^{3} + 1410 N^{3} j^{2} - 1564 N^{3} j + 399 N^{3} + 175 N^{2} i^{4} + 2240 N^{2} i^{3} j - 1470 N^{2} i^{3} + 2400 N^{2} i^{2} j^{2} - 5760 N^{2} i^{2} j + 2135 N^{2} i^{2} + 2240 N^{2} i j^{3} - 5760 N^{2} i j^{2} + 5888 N^{2} i j - 1464 N^{2} i + 175 N^{2} j^{4} - 1470 N^{2} j^{3} + 2135 N^{2} j^{2} - 1464 N^{2} j + 393 N^{2} - 1050 N i^{4} j + 525 N i^{4} - 2100 N i^{3} j^{2} + 4200 N i^{3} j - 1470 N i^{3} - 2100 N i^{2} j^{3} + 6300 N i^{2} j^{2} - 5910 N i^{2} j + 1485 N i^{2} - 1050 N i j^{4} + 4200 N i j^{3} - 5910 N i j^{2} + 3420 N i j - 872 N i + 525 N j^{4} - 1470 N j^{3} + 1485 N j^{2} - 592 N j + 192 N + 1050 i^{4} j^{2} - 1050 i^{4} j + 350 i^{4} - 2100 i^{3} j^{2} + 1540 i^{3} j - 420 i^{3} + 1050 i^{2} j^{4} - 2100 i^{2} j^{3} + 3600 i^{2} j^{2} - 1710 i^{2} j + 430 i^{2} - 1050 i j^{4} + 1540 i j^{3} - 1710 i j^{2} + 604 i j - 192 i + 350 j^{4} - 420 j^{3} + 430 j^{2} - 192 j + 36\\right)$$"
      ],
      "text/plain": [
       "   6       5         5         5        4  2        4            4          4 \n",
       "6⋅N  - 92⋅N ⋅i - 22⋅N ⋅j + 57⋅N  + 330⋅N ⋅i  + 384⋅N ⋅i⋅j - 522⋅N ⋅i + 330⋅N ⋅\n",
       "──────────────────────────────────────────────────────────────────────────────\n",
       "                                                                              \n",
       "                                                                              \n",
       "\n",
       " 2        4          4        3  3         3  2           3  2         3    2 \n",
       "j  - 522⋅N ⋅j + 213⋅N  - 420⋅N ⋅i  - 1560⋅N ⋅i ⋅j + 1410⋅N ⋅i  - 1560⋅N ⋅i⋅j  \n",
       "──────────────────────────────────────────────────────────────────────────────\n",
       "                                                                              \n",
       "                                                                              \n",
       "\n",
       "        3             3          3  3         3  2         3          3       \n",
       "+ 3120⋅N ⋅i⋅j - 1214⋅N ⋅i - 420⋅N ⋅j  + 1410⋅N ⋅j  - 1564⋅N ⋅j + 399⋅N  + 175⋅\n",
       "──────────────────────────────────────────────────────────────────────────────\n",
       "                                                                              \n",
       "                                                                              \n",
       "\n",
       " 2  4         2  3           2  3         2  2  2         2  2           2  2 \n",
       "N ⋅i  + 2240⋅N ⋅i ⋅j - 1470⋅N ⋅i  + 2400⋅N ⋅i ⋅j  - 5760⋅N ⋅i ⋅j + 2135⋅N ⋅i  \n",
       "──────────────────────────────────────────────────────────────────────────────\n",
       "                                                                              \n",
       "                                                                              \n",
       "\n",
       "        2    3         2    2         2             2          2  4         2 \n",
       "+ 2240⋅N ⋅i⋅j  - 5760⋅N ⋅i⋅j  + 5888⋅N ⋅i⋅j - 1464⋅N ⋅i + 175⋅N ⋅j  - 1470⋅N ⋅\n",
       "──────────────────────────────────────────────────────────────────────────────\n",
       "                                                                              \n",
       "                                                                              \n",
       "\n",
       " 3         2  2         2          2           4            4           3  2  \n",
       "j  + 2135⋅N ⋅j  - 1464⋅N ⋅j + 393⋅N  - 1050⋅N⋅i ⋅j + 525⋅N⋅i  - 2100⋅N⋅i ⋅j  +\n",
       "──────────────────────────────────────────────────────────────────────────────\n",
       "                                                 ⎛ 4      2    ⎞              \n",
       "                                            70⋅N⋅⎝N  - 5⋅N  + 4⎠              \n",
       "\n",
       "         3             3           2  3           2  2           2            \n",
       " 4200⋅N⋅i ⋅j - 1470⋅N⋅i  - 2100⋅N⋅i ⋅j  + 6300⋅N⋅i ⋅j  - 5910⋅N⋅i ⋅j + 1485⋅N⋅\n",
       "──────────────────────────────────────────────────────────────────────────────\n",
       "                                                                              \n",
       "                                                                              \n",
       "\n",
       " 2             4             3             2                                 4\n",
       "i  - 1050⋅N⋅i⋅j  + 4200⋅N⋅i⋅j  - 5910⋅N⋅i⋅j  + 3420⋅N⋅i⋅j - 872⋅N⋅i + 525⋅N⋅j \n",
       "──────────────────────────────────────────────────────────────────────────────\n",
       "                                                                              \n",
       "                                                                              \n",
       "\n",
       "           3           2                           4  2         4          4  \n",
       " - 1470⋅N⋅j  + 1485⋅N⋅j  - 592⋅N⋅j + 192⋅N + 1050⋅i ⋅j  - 1050⋅i ⋅j + 350⋅i  -\n",
       "──────────────────────────────────────────────────────────────────────────────\n",
       "                                                                              \n",
       "                                                                              \n",
       "\n",
       "       3  2         3          3         2  4         2  3         2  2       \n",
       " 2100⋅i ⋅j  + 1540⋅i ⋅j - 420⋅i  + 1050⋅i ⋅j  - 2100⋅i ⋅j  + 3600⋅i ⋅j  - 1710\n",
       "──────────────────────────────────────────────────────────────────────────────\n",
       "                                                                              \n",
       "                                                                              \n",
       "\n",
       "  2          2           4           3           2                          4 \n",
       "⋅i ⋅j + 430⋅i  - 1050⋅i⋅j  + 1540⋅i⋅j  - 1710⋅i⋅j  + 604⋅i⋅j - 192⋅i + 350⋅j  \n",
       "──────────────────────────────────────────────────────────────────────────────\n",
       "                                                                              \n",
       "                                                                              \n",
       "\n",
       "       3        2             \n",
       "- 420⋅j  + 430⋅j  - 192⋅j + 36\n",
       "──────────────────────────────\n",
       "                              \n",
       "                              "
      ]
     },
     "execution_count": 10,
     "metadata": {},
     "output_type": "execute_result"
    }
   ],
   "source": [
    "Exp_dP0idP0j_k2 = Expectation_ij_k2(j, i)\n",
    "Exp_dP0idP0j_k2 = Exp_dP0idP0j_k2.simplify()\n",
    "Exp_dP0idP0j_k2"
   ]
  },
  {
   "cell_type": "code",
   "execution_count": 11,
   "metadata": {
    "collapsed": false
   },
   "outputs": [
    {
     "data": {
      "image/png": "[encoded data removed]",
      "text/latex": [
       "$$\\frac{3 N^{2}}{70} - \\frac{27}{70}$$"
      ],
      "text/plain": [
       "   2     \n",
       "3⋅N    27\n",
       "──── - ──\n",
       " 70    70"
      ]
     },
     "execution_count": 11,
     "metadata": {},
     "output_type": "execute_result"
    }
   ],
   "source": [
    "Exp_dP0i2_k2 = Exp_dP0idP0j_k2.subs(j, i).simplify()\n",
    "SUM_Exp_dP0i2_k2 = summation(Exp_dP0i2_k2, (i, 1, N)).simplify()\n",
    "SUM_Exp_dP0i2_k2"
   ]
  },
  {
   "cell_type": "code",
   "execution_count": 12,
   "metadata": {
    "collapsed": false
   },
   "outputs": [
    {
     "data": {
      "image/png": "[encoded data removed]",
      "text/latex": [
       "$$- \\frac{3 N^{2}}{140} + \\frac{27}{140}$$"
      ],
      "text/plain": [
       "     2      \n",
       "  3⋅N     27\n",
       "- ──── + ───\n",
       "  140    140"
      ]
     },
     "execution_count": 12,
     "metadata": {},
     "output_type": "execute_result"
    }
   ],
   "source": [
    "SUM_Exp_dP0idP0j_k2 = summation(Exp_dP0idP0j_k2, (j, 1, i-1), (i, 1, N)).simplify()\n",
    "SUM_Exp_dP0idP0j_k2"
   ]
  },
  {
   "cell_type": "code",
   "execution_count": 13,
   "metadata": {
    "collapsed": false
   },
   "outputs": [
    {
     "data": {
      "image/png": "[encoded data removed]",
      "text/latex": [
       "$$\\frac{3 N^{2} - 27}{70 N}$$"
      ],
      "text/plain": [
       "  ⎛ 2    ⎞\n",
       "3⋅⎝N  - 9⎠\n",
       "──────────\n",
       "   70⋅N   "
      ]
     },
     "execution_count": 13,
     "metadata": {},
     "output_type": "execute_result"
    }
   ],
   "source": [
    "Ninv = 1/N\n",
    "\n",
    "gE00 = (Ninv) - (Ninv)**2\n",
    "gNE00 = - (Ninv)**2\n",
    "\n",
    "E_m = (gE00 * SUM_Exp_dP0i2_k2 + 2 * gNE00 * SUM_Exp_dP0idP0j_k2).simplify()\n",
    "E_m"
   ]
  },
  {
   "cell_type": "code",
   "execution_count": 14,
   "metadata": {
    "collapsed": false
   },
   "outputs": [
    {
     "name": "stdout",
     "output_type": "stream",
     "text": [
      "N = Symbol('N')\n",
      "e = 3*(N**2 - 9)/(70*N)\n"
     ]
    }
   ],
   "source": [
    "print_python(E_m)"
   ]
  },
  {
   "cell_type": "markdown",
   "metadata": {},
   "source": [
    "## RW in Frequency"
   ]
  },
  {
   "cell_type": "code",
   "execution_count": 15,
   "metadata": {
    "collapsed": false
   },
   "outputs": [],
   "source": [
    "# i > j\n",
    "E_dF0idF0j_ij = j\n",
    "E_dP0idP0j_ij = (2 * pi * dT)**2 * (summation((i-k)*(j-k), (k, 1, j)))\n",
    "E_dP0idF0j_ij = 2 * pi * dT * summation(i-k, (k, 1, j))\n",
    "E_dP0jdF0i_ij = 2 * pi * dT * summation(j-k, (k, 1, j))\n",
    "\n",
    "# j > i\n",
    "E_dF0idF0j_ji = i\n",
    "E_dP0idP0j_ji = (2 * pi * dT)**2 * (summation((j-k)*(i-k), (k, 1, i)))\n",
    "E_dP0idF0j_ji = 2 * pi * dT * summation(i-k, (k, 1, i))\n",
    "E_dP0jdF0i_ji = 2 * pi * dT * summation(j-k, (k, 1, i))\n",
    "\n",
    "E_dF0idF0j_k2 = Expectation_ij_k2(E_dF0idF0j_ij, E_dF0idF0j_ji, A=1, B=1).simplify()\n",
    "E_dP0idP0j_k2 = Expectation_ij_k2(E_dP0idP0j_ij, E_dP0idP0j_ji, A=2, B=2).simplify()\n",
    "E_dP0idF0j_k2 = Expectation_ij_k2(E_dP0idF0j_ij, E_dP0idF0j_ji, A=1, B=2).simplify()\n",
    "E_dP0jdF0i_k2 = Expectation_ij_k2(E_dP0jdF0i_ij, E_dP0jdF0i_ji, A=2, B=1).simplify()"
   ]
  },
  {
   "cell_type": "code",
   "execution_count": 16,
   "metadata": {
    "collapsed": false
   },
   "outputs": [
    {
     "data": {
      "image/png": "[encoded data removed]",
      "text/latex": [
       "$$\\frac{\\pi^{2} \\Delta{T}^{2}}{630 N} \\left(N^{4} + 13 N^{2} + 82\\right)$$"
      ],
      "text/plain": [
       " 2          2 ⎛ 4       2     ⎞\n",
       "π ⋅\\Delta{T} ⋅⎝N  + 13⋅N  + 82⎠\n",
       "───────────────────────────────\n",
       "             630⋅N             "
      ]
     },
     "execution_count": 16,
     "metadata": {},
     "output_type": "execute_result"
    }
   ],
   "source": [
    "Ninv = 1/N\n",
    "\n",
    "gE00 = (Ninv) - (Ninv)**2\n",
    "gE01 = pi * dT * (Ninv - Ninv**2)\n",
    "gE10 = gE01\n",
    "gE11 = nsimplify((pi * dT) **2 * ((4.0/3.0) * Ninv - Ninv**2))\n",
    "\n",
    "gNE00 = - (Ninv)**2\n",
    "gNE01 = - pi * dT * (Ninv**2)\n",
    "gNE10 = gNE01\n",
    "gNE11 = - nsimplify((pi * dT) **2 * (Ninv**2))\n",
    "\n",
    "E_dF0idF0i_k2 = E_dF0idF0j_k2.subs(j, i).simplify()\n",
    "E_dP0idP0i_k2 = E_dP0idP0j_k2.subs(j, i).simplify()\n",
    "E_dP0idF0i_k2 = E_dP0idF0j_k2.subs(j, i).simplify()\n",
    "\n",
    "TERM1 = (gE00 * summation(E_dP0idP0i_k2, (i, 1, N))).simplify()\n",
    "TERM2 = (2 * gE01 * summation(E_dP0idF0i_k2, (i, 1, N))).simplify() \n",
    "TERM3 = (gE11 * summation(E_dF0idF0i_k2 , (i, 1, N))).simplify()\n",
    "\n",
    "TERM4 = (gNE00 * summation(E_dP0idP0j_k2, (j, 1, i-1), (i, 1, N))).simplify()\n",
    "TERM5 = (gNE11 * summation(E_dF0idF0j_k2, (j, 1, i-1), (i, 1, N)) ).simplify()\n",
    "TERM6 = (gNE01 * summation(E_dP0idF0j_k2, (j, 1, i-1), (i, 1, N))).simplify()\n",
    "TERM7 = (gNE10 * summation(E_dP0jdF0i_k2, (j, 1, i-1), (i, 1, N))).simplify()\n",
    "\n",
    "E_m = TERM1 + TERM2 + TERM3 + 2 * (TERM4 + TERM5 + TERM6 + TERM7)\n",
    "E_m = E_m.simplify()\n",
    "E_m"
   ]
  },
  {
   "cell_type": "code",
   "execution_count": 17,
   "metadata": {
    "collapsed": false
   },
   "outputs": [
    {
     "name": "stdout",
     "output_type": "stream",
     "text": [
      "\\Delta{T} = Symbol('\\Delta{T}')\n",
      "N = Symbol('N')\n",
      "e = pi**2*\\Delta{T}**2*(N**4 + 13*N**2 + 82)/(630*N)\n"
     ]
    }
   ],
   "source": [
    "print_python(E_m)"
   ]
  },
  {
   "cell_type": "code",
   "execution_count": 18,
   "metadata": {
    "collapsed": false
   },
   "outputs": [
    {
     "name": "stdout",
     "output_type": "stream",
     "text": [
      "\\frac{\\pi^{2} \\Delta{T}^{2}}{630 N} \\left(N^{4} + 13 N^{2} + 82\\right)\n"
     ]
    }
   ],
   "source": [
    "print latex(E_m)"
   ]
  },
  {
   "cell_type": "code",
   "execution_count": 19,
   "metadata": {
    "collapsed": false
   },
   "outputs": [
    {
     "ename": "KeyError",
     "evalue": "N",
     "output_type": "error",
     "traceback": [
      "\u001b[1;31m---------------------------------------------------------------------------\u001b[0m",
      "\u001b[1;31mKeyError\u001b[0m                                  Traceback (most recent call last)",
      "\u001b[1;32m<ipython-input-19-0da3dfdb7b67>\u001b[0m in \u001b[0;36m<module>\u001b[1;34m()\u001b[0m\n\u001b[0;32m      4\u001b[0m  \u001b[1;31m#+ 2 * (TERM4.expand().collect(N, evaluate=False))[N]\u001b[0m\u001b[1;33m\u001b[0m\u001b[1;33m\u001b[0m\u001b[0m\n\u001b[0;32m      5\u001b[0m  \u001b[1;31m#+ 2 * (TERM5.expand().collect(N, evaluate=False))[N]\u001b[0m\u001b[1;33m\u001b[0m\u001b[1;33m\u001b[0m\u001b[0m\n\u001b[1;32m----> 6\u001b[1;33m  \u001b[1;33m+\u001b[0m \u001b[1;33m(\u001b[0m\u001b[0mTERM6\u001b[0m\u001b[1;33m.\u001b[0m\u001b[0mexpand\u001b[0m\u001b[1;33m(\u001b[0m\u001b[1;33m)\u001b[0m\u001b[1;33m.\u001b[0m\u001b[0mcollect\u001b[0m\u001b[1;33m(\u001b[0m\u001b[0mN\u001b[0m\u001b[1;33m,\u001b[0m \u001b[0mevaluate\u001b[0m\u001b[1;33m=\u001b[0m\u001b[0mFalse\u001b[0m\u001b[1;33m)\u001b[0m\u001b[1;33m)\u001b[0m\u001b[1;33m[\u001b[0m\u001b[0mN\u001b[0m\u001b[1;33m]\u001b[0m\u001b[1;33m\u001b[0m\u001b[0m\n\u001b[0m\u001b[0;32m      7\u001b[0m  )\n",
      "\u001b[1;31mKeyError\u001b[0m: N"
     ]
    }
   ],
   "source": [
    "((TERM1.expand().collect(N, evaluate=False))[N] \n",
    " + (TERM2.expand().collect(N, evaluate=False))[N] \n",
    " + (TERM3.expand().collect(N, evaluate=False))[N] \n",
    " #+ 2 * (TERM4.expand().collect(N, evaluate=False))[N] \n",
    " #+ 2 * (TERM5.expand().collect(N, evaluate=False))[N] \n",
    " + (TERM6.expand().collect(N, evaluate=False))[N]\n",
    " )"
   ]
  },
  {
   "cell_type": "code",
   "execution_count": null,
   "metadata": {
    "collapsed": false
   },
   "outputs": [],
   "source": [
    "(TERM2.expand().collect(N, evaluate=False))[N]"
   ]
  },
  {
   "cell_type": "code",
   "execution_count": null,
   "metadata": {
    "collapsed": false
   },
   "outputs": [],
   "source": [
    "E_dF0idF0j_k2"
   ]
  },
  {
   "cell_type": "markdown",
   "metadata": {},
   "source": [
    "## 0th order for Frequency"
   ]
  },
  {
   "cell_type": "code",
   "execution_count": null,
   "metadata": {
    "collapsed": false
   },
   "outputs": [],
   "source": [
    "# i > j\n",
    "E_dF0idF0j_ij = j\n",
    "E_dP0idP0j_ij = (2 * pi * dT)**2 * (summation((i-k)*(j-k), (k, 1, j)))\n",
    "E_dP0idF0j_ij = 2 * pi * dT * summation(i-k, (k, 1, j))\n",
    "E_dP0jdF0i_ij = 2 * pi * dT * summation(j-k, (k, 1, j))\n",
    "\n",
    "# j > i\n",
    "E_dF0idF0j_ji = i\n",
    "E_dP0idP0j_ji = (2 * pi * dT)**2 * (summation((j-k)*(i-k), (k, 1, i)))\n",
    "E_dP0idF0j_ji = 2 * pi * dT * summation(i-k, (k, 1, i))\n",
    "E_dP0jdF0i_ji = 2 * pi * dT * summation(j-k, (k, 1, i))\n",
    "\n",
    "E_dF0idF0j_k0 = Expectation_ij_k0(E_dF0idF0j_ij, E_dF0idF0j_ji).simplify()\n",
    "E_dP0idP0j_k0 = Expectation_ij_k0(E_dP0idP0j_ij, E_dP0idP0j_ji).simplify()\n",
    "E_dP0idF0j_k0 = Expectation_ij_k0(E_dP0idF0j_ij, E_dP0idF0j_ji).simplify()\n",
    "E_dP0jdF0i_k0 = Expectation_ij_k0(E_dP0jdF0i_ij, E_dP0jdF0i_ji).simplify()\n"
   ]
  },
  {
   "cell_type": "code",
   "execution_count": null,
   "metadata": {
    "collapsed": false
   },
   "outputs": [],
   "source": [
    "E_dF0idF0i_k0 = E_dF0idF0j_k0.subs(j, i).simplify()\n",
    "E_dP0idP0i_k0 = E_dP0idP0j_k0.subs(j, i).simplify()\n",
    "E_dP0idF0i_k0 = E_dP0idF0j_k0.subs(j, i).simplify()\n",
    "\n",
    "TERM1 = (gE00 * summation(E_dP0idP0i_k0, (i, 1, N))).simplify()\n",
    "TERM2 = (2 * gE01 * summation(E_dP0idF0i_k0, (i, 1, N))).simplify() \n",
    "TERM3 = (gE11 * summation(E_dF0idF0i_k0 , (i, 1, N))).simplify()\n",
    "\n",
    "TERM4 = (gNE00 * summation(E_dP0idP0j_k0, (j, 1, i-1), (i, 1, N))).simplify()\n",
    "TERM5 = (gNE11 * summation(E_dF0idF0j_k0, (j, 1, i-1), (i, 1, N)) ).simplify()\n",
    "TERM6 = (gNE01 * summation(E_dP0idF0j_k0, (j, 1, i-1), (i, 1, N))).simplify()\n",
    "TERM7 = (gNE10 * summation(E_dP0jdF0i_k0, (j, 1, i-1), (i, 1, N))).simplify()\n",
    "\n",
    "E_m = TERM1 + TERM2 + TERM3 + 2 * (TERM4 + TERM5 + TERM6 + TERM7)\n",
    "E_m = E_m.simplify()\n",
    "E_m"
   ]
  },
  {
   "cell_type": "code",
   "execution_count": null,
   "metadata": {
    "collapsed": false
   },
   "outputs": [],
   "source": [
    "E_m"
   ]
  }
 ],
 "metadata": {
  "kernelspec": {
   "display_name": "Python 2",
   "language": "python",
   "name": "python2"
  },
  "language_info": {
   "codemirror_mode": {
    "name": "ipython",
    "version": 2
   },
   "file_extension": ".py",
   "mimetype": "text/x-python",
   "name": "python",
   "nbconvert_exporter": "python",
   "pygments_lexer": "ipython2",
   "version": "2.7.8"
  }
 },
 "nbformat": 4,
 "nbformat_minor": 0
}
