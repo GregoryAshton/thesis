{
 "metadata": {
  "name": "",
  "signature": "sha256:7f0add01b9afb13929dadecdb32ce394ec7a15e9fa604b62e7bf63a5309f422d"
 },
 "nbformat": 3,
 "nbformat_minor": 0,
 "worksheets": [
  {
   "cells": [
    {
     "cell_type": "code",
     "collapsed": false,
     "input": [
      "from sympy import init_printing\n",
      "init_printing()\n",
      "\n",
      "from sympy import *\n",
      "import sympy as sp\n",
      "\n",
      "i, j , k, m, l, N = symbols('i j k m l N', integer=True)\n",
      "sigmaP0, sigmaF0, sigmaF1 = symbols('\\sigma_{\\phi} \\sigma_{f} \\sigma_{\\dot{f}}')\n",
      "\n",
      "T, dT = symbols('T \\Delta{T}')\n",
      "AP0, AF0, AF1 = symbols('A_{\\phi} A_{f} A_{\\dot{f}}')"
     ],
     "language": "python",
     "metadata": {},
     "outputs": [],
     "prompt_number": 1
    },
    {
     "cell_type": "markdown",
     "metadata": {},
     "source": [
      "$\n",
      "\\newcommand{\\tref}{t_{\\textrm{r}}}\n",
      "\\newcommand{\\f}{f}\n",
      "\\newcommand{\\fdot}{\\dot{f}}\n",
      "\\newcommand{\\s}[2]{\\sum_{#1}^{#2}}\n",
      "\\newcommand{\\tn}{\\hat{\\Delta}}\n",
      "\\newcommand{\\dT}{\\Delta T}\n",
      "\\newcommand{\\sigP}{\\sigma_{\\phi}^{2}}\n",
      "\\newcommand{\\sigF}{\\sigma_{\\f}^{2}}\n",
      "\\newcommand{\\sigS}{\\sigma_{\\fdot}^{2}}\n",
      "$"
     ]
    },
    {
     "cell_type": "markdown",
     "metadata": {},
     "source": [
      "# Calculation of E[m]\n",
      "\n",
      "The aim is to calculate the expected mismatch from a random walk in parameter space in Phase, Frequency and Spindown over N steps.\n",
      "The terms that we require to calculate are those given by taking the expectation of\n",
      "\n",
      "\\begin{align}\n",
      "m & = \\s{i=1}{N}\\left(g_{00}^{E} \\Delta\\phi_{i}^{2} + g_{11}^{E}\\Delta\\f_{i}^{2}+ g_{22}^{E}\\Delta\\fdot_{i}^{2} \n",
      "+ 2\\left(g_{01}^{E}\\Delta\\phi_{i}\\Delta\\f_{i} + g_{02}^{E}\\Delta\\phi_{i}\\Delta\\fdot_{i} + g_{12}^{E}\\Delta\\f_{i}\\Delta\\fdot_{i}\\right)\\right) \\notag \\\\\n",
      "& +  2\\s{i=1}{N}\\left(\\s{\\substack{j=1}}{i-1}\\left( g_{00}^{NE} \\Delta\\phi_{i}\\Delta\\phi_{j} + g_{11}^{NE}\\Delta\\f_{i}\\f_{j} + g_{22}^{NE}\\Delta\\fdot_{i}\\Delta\\fdot_{j} \n",
      "+ g_{01}^{NE}\\Delta\\phi_{i}\\Delta\\f_{j} + g_{10}^{NE}\\Delta\\f_{i}\\Delta\\phi_{j}\n",
      "+ g_{02}^{NE}\\Delta\\phi_{i}\\Delta\\fdot_{j} + g_{20}^{NE}\\Delta\\phi_{j}\\Delta\\fdot_{i}\n",
      "+ g_{12}^{NE}\\Delta\\f_{i}\\Delta\\fdot_{j} + g_{21}^{NE}\\Delta\\fdot_{j}\\Delta\\f_{i}\n",
      "\\right)\\right)\n",
      "\\end{align}\n",
      "\n",
      "Note that $j<i$ \n",
      "\n",
      "## Definitions\n",
      "In order to simplify the calculation we define the dimensionless parameters\n",
      "$$A_{\\phi} = \\sigP \\;\\;\\;\\;\\; A_{\\f} = \\sigF\\Delta T^{2} \\;\\;\\;\\;\\; A_{\\fdot} = \\sigF\\Delta T^{4},$$\n",
      "and define some summation properties\n",
      "\\begin{equation}\n",
      "\\left(\\s{b=1}{a} X_{b}\\right)^{2} = \\s{b=1}{a}\\left(X_{b}^{2} + \\s{\\substack{c\\ne b \\\\ c=1 }}{a}X_{b}X_{c}\\right) = \\s{b=1}{a}\\left(X_{b}^{2} + 2\\s{c=1}{b-1}X_{b}X_{c}\\right)\n",
      "\\end{equation}\n",
      "\\begin{equation}\n",
      "\\sum_{b=1}^{a}\\sum_{c=1}^{b} X_{c} = \\sum_{b=1}^{a}(a+1-b)X_{b} \n",
      "\\end{equation}\n",
      "\\begin{equation}\n",
      "\\sum_{b=1}^{a}\\sum_{c=1}^{b-1} X_{c} = \\sum_{b=1}^{a-1}(a-b)X_{b} \n",
      "\\end{equation}\n",
      "\n",
      "## Defining the departures due to Random walks\n",
      "We will assume that the spindown, frequency and phase take a random walk. Each step proceeds from the previous\n",
      "value and the step is drawn from a normal distribution, we define\n",
      "$$\n",
      "\\tn\\fdot_{i} = \\Delta\\fdot_{i} - \\Delta\\fdot_{i-1}  \\sim N(0, \\sigS)\n",
      "$$\n",
      "\n",
      "Rearranging this gives an expression for the offset in the $i^{th}$ segment. For the spindown we can look at two terms\n",
      "$$\\Delta\\fdot_{i} = \\tn\\fdot_{i} + \\Delta\\fdot_{i-1} $$\n",
      "$$\\Delta\\fdot_{i-1} = \\tn\\fdot_{i-1} + \\Delta\\fdot_{i-2} $$\n",
      "to show that \n",
      "$$\\Delta\\fdot_{i} = \\s{j=1}{i}\\tn\\fdot_{j}$$\n",
      "\n",
      "The same is not true for the frequency and phase. This can be understood by considering only a random walk in the spindown.\n",
      "In such a case the offset in spindown will naturally lead an increase or decrease of the frequency and also the phase. It is possible that the frequency and phase could shift by a corresponding amount such that the net departure in frequency and phase is zero but this is a particularly special case that won't be considered here. \n",
      "\n",
      "To account for the frequency departure due to a random walk in the spindown we integrate \n",
      "\\begin{equation}\n",
      "\\Delta \\f(t) = \\int_{0}^{t} \\Delta \\fdot(t') dt'\n",
      "\\end{equation}\n",
      "Because the random walk is discreet and constant in any given segment the integral can be replaced with a summation. \n",
      "\\begin{align}\n",
      "\\Delta \\f_{i} & = \\s{j=1}{i}\\tn \\f_{j} + \\s{j=1}{i-1}\\Delta\\fdot_{j} \\dT \\\\\n",
      "& = \\s{j=1}{i}\\tn \\f_{j} + \\s{j=1}{i-1}\\s{k=1}{j}\\tn \\fdot_{k} \\dT \\\\\n",
      "& = \\s{j=1}{i}\\tn \\f_{j} + \\s{j=1}{i-1}(i-j)\\tn \\fdot_{j} \\dT\n",
      "\\end{align}\n",
      "Note that we are setting the reference time to the begining of each segment. If this were not the case the replacement \n",
      "of the integral would need an additional term.\n",
      "\n",
      "\n",
      "In a similiar way the phase is given by the integral of the frequency deviation\n",
      "\\begin{align}\n",
      "\\Delta\\phi_{i} & = \\s{j=1}{i}\\tn \\phi_{j} + 2\\pi \\left(\\s{j=1}{i-1}\\Delta\\f_{j}\\dT \n",
      "+ \\frac{1}{2}\\s{j=1}{i-1}\\Delta\\fdot_{j}\\dT^{2}\\right) \\notag \\\\\n",
      "& = \\s{j=1}{i}\\tn \\phi_{j} + 2\\pi\\left(\\s{j=1}{i-1}\\left(\\s{k=1}{j}\\tn\\f_{k} + \\s{k=1}{j-1}(j-k)\\tn\\fdot_{k}\\dT\\right)\\dT\n",
      " + \\frac{1}{2}\\s{j=1}{i-1}\\s{k=1}{j}\\Delta\\fdot_{k}\\dT^{2} \\right)  \\notag \\\\\n",
      "& = \\s{j=1}{i}\\tn \\phi_{j} + 2\\pi\\left(\\s{j=1}{i-1}(i-j)\\tn\\f_{j}\\dT\n",
      " + \\s{j=1}{i-1}\\s{k=1}{j-1}(j-k)\\tn\\fdot_{k}\\dT^{2}\n",
      " + \\frac{1}{2}\\s{j=1}{i-1}(i-j)\\Delta\\fdot_{j}\\dT^{2} \\right)  \\notag \\\\\n",
      "& = \\s{j=1}{i}\\tn \\phi_{j} + 2\\pi\\left(\\s{j=1}{i-1}(i-j)\\tn\\f_{j}\\dT \n",
      " + \\frac{1}{2}\\s{j=1}{i-1}\\left(\\left(i-j\\right)\\left(i-j-1)\\right) + (i-j)\\right)\\tn\\fdot_{j}\\dT^{2}\\right)  \\notag\\\\\n",
      "& = \\s{j=1}{i}\\tn \\phi_{j} + 2\\pi\\left(\\s{j=1}{i-1}(i-j)\\tn\\f_{j}\\dT \n",
      " + \\frac{1}{2}\\s{j=1}{i-1}\\left((i-j)^{2}\\right)\\tn\\fdot_{j}\\dT^{2}\\right)  \\notag\\\\\n",
      "\\end{align}\n",
      "\n",
      "## Taking the expectation\n",
      "We will be taking the expectation of various combinations of these quantities. Since the terms are central normal distributions all cross correlated terms will vanish, and the only non-zero terms are given by \n",
      "$$\n",
      "E[\\tn\\phi_{i}\\tn\\phi_{j}] = \\delta_{ij}\\sigP, \\;\\;\\;\n",
      "E[\\tn\\f_{i}\\tn\\f_{j}] = \\delta_{ij}\\sigF, \\;\\;\\;\n",
      "E[\\tn\\fdot_{i}\\tn\\fdot_{j}] = \\delta_{ij}\\sigS, \\;\\;\\;\n",
      "$$\n",
      "Since there are a significant number of terms to deal with, all obviously cross corelated terms will not be\n",
      "written down. Each term will be calculated separately and then combined at the end"
     ]
    },
    {
     "cell_type": "markdown",
     "metadata": {},
     "source": [
      "### TERM 1: $\\Delta\\phi_{i}^{2}$\n",
      "\n",
      "\\begin{align}\n",
      "\\Delta\\phi_{i}^{2}  & = \\s{k=1}{i}\\s{l=1}{i}\\tn \\phi_{k}\\tn \\phi_{l} + (2\\pi)^{2}\\left(\\s{k=1}{i-1}\\s{l=1}{i-1}(i-k)(i-l)\\tn\\f_{k}\\tn\\f_{l}\\dT^{2} + \\frac{1}{4}\\s{k=1}{i-1}\\s{l=1}{i-1}\\left(i-k\\right)^{2}\\left(i-l\\right)^{2}\\tn\\fdot_{k}\\tn\\fdot_{l}\\dT^{4}\\right)\n",
      "\\end{align}\n",
      "\n",
      "$$\n",
      "E\\left[\\Delta\\phi_{i}^2\\right] = \\sigP i + (2\\pi)^{2}\\left[\\s{k=1}{i-1}(i-k)^{2}\\sigF \\dT^{2} \n",
      "+ \\frac{1}{4}\\s{k=1}{i-1}\\left(i-k\\right)^{4}\\sigS \\dT^{4} \\right] $$"
     ]
    },
    {
     "cell_type": "code",
     "collapsed": false,
     "input": [
      "exp1 = sigmaP0**2 * i + (2*pi)**2 * (\n",
      "        (sigmaF0 * dT)**2 * summation((i-k)**2, (k, 1, i-1)) + \n",
      "        (0.25)*(sigmaF1 * dT**2)**2 * summation((i-k)**4, (k, 1, i-1)))\n",
      "\n",
      "exp1 = simplify(nsimplify(exp1))\n",
      "\n",
      "TERM1 = simplify(summation(exp1, (i, 1, N)))\n",
      "TERM1 = TERM1.expand().subs(sigmaF1**2 * dT **4, AF1).subs(sigmaF0**2 * dT**2, AF0).subs(sigmaP0**2, AP0).collect([AF0, AF1, AP0])\n",
      "TERM1 = TERM1.expand().collect([AF0, AF1, AP0])\n",
      "TERM1"
     ],
     "language": "python",
     "metadata": {},
     "outputs": [
      {
       "latex": [
        "$$A_{{\\dot{f}}} \\left(\\frac{\\pi^{2} N^{6}}{30} - \\frac{\\pi^{2} N^{4}}{12} + \\frac{\\pi^{2} N^{2}}{20}\\right) + A_{{\\phi}} \\left(\\frac{N^{2}}{2} + \\frac{N}{2}\\right) + A_{{f}} \\left(\\frac{\\pi^{2} N^{4}}{3} - \\frac{\\pi^{2} N^{2}}{3}\\right)$$"
       ],
       "metadata": {},
       "output_type": "pyout",
       "png": "[encoded data removed]",
       "prompt_number": 4,
       "text": [
        "            \u239b 2  6    2  4    2  2\u239e            \u239b 2    \u239e         \u239b 2  4    2  2\n",
        "            \u239c\u03c0 \u22c5N    \u03c0 \u22c5N    \u03c0 \u22c5N \u239f            \u239cN    N\u239f         \u239c\u03c0 \u22c5N    \u03c0 \u22c5N \n",
        "A_{\\dot{f}}\u22c5\u239c\u2500\u2500\u2500\u2500\u2500 - \u2500\u2500\u2500\u2500\u2500 + \u2500\u2500\u2500\u2500\u2500\u239f + A_{\\phi}\u22c5\u239c\u2500\u2500 + \u2500\u239f + A_{f}\u22c5\u239c\u2500\u2500\u2500\u2500\u2500 - \u2500\u2500\u2500\u2500\u2500\n",
        "            \u239d  30      12      20 \u23a0            \u239d2    2\u23a0         \u239d  3       3  \n",
        "\n",
        "\u239e\n",
        "\u239f\n",
        "\u239f\n",
        "\u23a0"
       ]
      }
     ],
     "prompt_number": 4
    },
    {
     "cell_type": "markdown",
     "metadata": {},
     "source": [
      "### TERM 2: $\\Delta\\f_{i}^{2}$\n",
      "\n",
      "\\begin{align}\n",
      "\\Delta\\f_{i}^{2} & = \\s{k=1}{i}\\s{l=1}{i}\\tn\\f_{k}\\tn\\f_{l} + \\s{k=1}{i-1}\\s{l=1}{i-1}(i-k)(i-l)\\tn\\fdot_{k}\\tn\\fdot_{l}\\dT^{2} \\\\\n",
      "\\end{align}\n",
      "\n",
      "$$E\\left[\\Delta f_{i}^2\\right] =  \\sigF  i + \\Delta T^{2}\\sigS \\s{k=1}{i-1}(i-k)^2$$"
     ]
    },
    {
     "cell_type": "code",
     "collapsed": false,
     "input": [
      "exp2 = i * sigmaF0**2 + (dT * sigmaF1)**2 * summation((i-k)**2, (k, 1, i-1))\n",
      "TERM2 = summation(exp2, (i, 1, N))\n",
      "TERM2 = TERM2.expand().subs(sigmaF1**2 * dT **2, AF1/dT**2).subs(sigmaF0**2, AF0/dT**2).collect([AF0, AF1])\n",
      "TERM2 "
     ],
     "language": "python",
     "metadata": {},
     "outputs": [
      {
       "latex": [
        "$$A_{{\\dot{f}}} \\left(\\frac{N^{4}}{12 \\Delta{T}^{2}} - \\frac{N^{2}}{12 \\Delta{T}^{2}}\\right) + A_{{f}} \\left(\\frac{N^{2}}{2 \\Delta{T}^{2}} + \\frac{N}{2 \\Delta{T}^{2}}\\right)$$"
       ],
       "metadata": {},
       "output_type": "pyout",
       "png": "[encoded data removed]",
       "prompt_number": 5,
       "text": [
        "            \u239b       4               2     \u239e         \u239b      2                  \n",
        "            \u239c      N               N      \u239f         \u239c     N              N    \n",
        "A_{\\dot{f}}\u22c5\u239c\u2500\u2500\u2500\u2500\u2500\u2500\u2500\u2500\u2500\u2500\u2500\u2500\u2500 - \u2500\u2500\u2500\u2500\u2500\u2500\u2500\u2500\u2500\u2500\u2500\u2500\u2500\u239f + A_{f}\u22c5\u239c\u2500\u2500\u2500\u2500\u2500\u2500\u2500\u2500\u2500\u2500\u2500\u2500 + \u2500\u2500\u2500\u2500\u2500\u2500\u2500\u2500\u2500\u2500\n",
        "            \u239c            2               2\u239f         \u239c           2             \n",
        "            \u239d12\u22c5\\Delta{T}    12\u22c5\\Delta{T} \u23a0         \u239d2\u22c5\\Delta{T}    2\u22c5\\Delta{T\n",
        "\n",
        "  \u239e\n",
        "  \u239f\n",
        "\u2500\u2500\u239f\n",
        " 2\u239f\n",
        "} \u23a0"
       ]
      }
     ],
     "prompt_number": 5
    },
    {
     "cell_type": "markdown",
     "metadata": {},
     "source": [
      "### TERM 3: $\\Delta\\fdot_{i}^{2}$\n",
      "\n",
      "\\begin{align}\n",
      "\\Delta\\fdot_{i}^{2} & = \\s{k=1}{i}\\s{l=1}{i}\\tn\\fdot_{k}\\tn\\fdot_{l} \\notag\\\\\n",
      "E[\\Delta\\fdot_{i}^{2}] & = \\sigS i\n",
      "\\end{align} \n",
      "\n",
      "$$E\\left[\\sum_{i}^{N} \\Delta \\dot{f}_{i}^2\\right] = \\sigma_{\\dot{f}} \\sum_{i}^{N}i = $$"
     ]
    },
    {
     "cell_type": "code",
     "collapsed": false,
     "input": [
      "exp3 = sigmaF1**2 * i\n",
      "TERM3 = summation(exp3, (i, 1, N))\n",
      "TERM3 = TERM3.expand().subs(sigmaF1**2, AF1/dT**4).collect([AF0, AF1])\n",
      "TERM3"
     ],
     "language": "python",
     "metadata": {},
     "outputs": [
      {
       "latex": [
        "$$A_{{\\dot{f}}} \\left(\\frac{N^{2}}{2 \\Delta{T}^{4}} + \\frac{N}{2 \\Delta{T}^{4}}\\right)$$"
       ],
       "metadata": {},
       "output_type": "pyout",
       "png": "[encoded data removed]",
       "prompt_number": 6,
       "text": [
        "            \u239b      2                    \u239e\n",
        "            \u239c     N              N      \u239f\n",
        "A_{\\dot{f}}\u22c5\u239c\u2500\u2500\u2500\u2500\u2500\u2500\u2500\u2500\u2500\u2500\u2500\u2500 + \u2500\u2500\u2500\u2500\u2500\u2500\u2500\u2500\u2500\u2500\u2500\u2500\u239f\n",
        "            \u239c           4              4\u239f\n",
        "            \u239d2\u22c5\\Delta{T}    2\u22c5\\Delta{T} \u23a0"
       ]
      }
     ],
     "prompt_number": 6
    },
    {
     "cell_type": "markdown",
     "metadata": {},
     "source": [
      "### TERM 4: $\\Delta\\phi_{i}\\Delta\\f_{i}$\n",
      "\n",
      "\\begin{align}\n",
      "\\Delta\\phi_{i}\\Delta\\f_{i} & = 2\\pi\\left(\\s{k=1}{i-1}(i-k)\\tn\\f_{k}\\dT + \\frac{1}{2}\\s{k=1}{i-1}\\left(i-k\\right)^{2}\\tn\\fdot_{k}\\dT^{2}\\right)\\left(\\s{l=1}{i}\\tn\\f_{l} + \\s{l=1}{i-1}(i-l)\\tn\\fdot_{l}\\dT\\right)  \\notag\\\\\n",
      "& = 2\\pi\\left(\\s{k=1}{i-1}\\s{l=1}{i-1}(i-k)\\tn\\f_{k}\\tn\\f_{l}\\dT + \\frac{1}{2}\\s{k=1}{i-1}\\s{l=1}{i-1}\\left(i-k\\right)^{2}(i-l)\\tn\\fdot_{k}\\tn\\fdot_{l}\\dT^{3}\\right)\n",
      "\\end{align}\n",
      "$$E[\\Delta\\phi_{i}\\Delta\\f_{i}]  = 2\\pi\\left(\n",
      "\\s{k=1}{i-1}(i-k)\\sigF\\dT + \\frac{1}{2}\\s{k=1}{i-1}(i-k)^{3}\\sigS \\dT^{3}\n",
      "\\right)$$"
     ]
    },
    {
     "cell_type": "code",
     "collapsed": false,
     "input": [
      "exp4 = 2*pi*(sigmaF0**2 * dT * summation((i-k), (k, 1, i-1)) \n",
      "             + 0.5 * sigmaF1**2 * dT**3 * summation((i-k)**3, (k, 1, i-1)))\n",
      "\n",
      "TERM4 = summation(exp4, (i, 1, N)).nsimplify()\n",
      "TERM4 = TERM4.expand().subs(dT **3 * sigmaF1**2, AF1/dT).subs(dT * sigmaF0**2, AF0/dT).collect([AF0, AF1])\n",
      "TERM4"
     ],
     "language": "python",
     "metadata": {},
     "outputs": [
      {
       "latex": [
        "$$A_{{\\dot{f}}} \\left(\\frac{\\pi N^{5}}{20 \\Delta{T}} - \\frac{\\pi N^{3}}{12 \\Delta{T}} + \\frac{\\pi N}{30 \\Delta{T}}\\right) + A_{{f}} \\left(\\frac{\\pi N^{3}}{3 \\Delta{T}} - \\frac{\\pi N}{3 \\Delta{T}}\\right)$$"
       ],
       "metadata": {},
       "output_type": "pyout",
       "png": "[encoded data removed]",
       "prompt_number": 7,
       "text": [
        "            \u239b       5              3                   \u239e         \u239b       3    \n",
        "            \u239c    \u03c0\u22c5N            \u03c0\u22c5N            \u03c0\u22c5N     \u239f         \u239c    \u03c0\u22c5N     \n",
        "A_{\\dot{f}}\u22c5\u239c\u2500\u2500\u2500\u2500\u2500\u2500\u2500\u2500\u2500\u2500\u2500\u2500 - \u2500\u2500\u2500\u2500\u2500\u2500\u2500\u2500\u2500\u2500\u2500\u2500 + \u2500\u2500\u2500\u2500\u2500\u2500\u2500\u2500\u2500\u2500\u2500\u2500\u239f + A_{f}\u22c5\u239c\u2500\u2500\u2500\u2500\u2500\u2500\u2500\u2500\u2500\u2500\u2500 \n",
        "            \u239d20\u22c5\\Delta{T}   12\u22c5\\Delta{T}   30\u22c5\\Delta{T}\u23a0         \u239d3\u22c5\\Delta{T} \n",
        "\n",
        "             \u239e\n",
        "      \u03c0\u22c5N    \u239f\n",
        "- \u2500\u2500\u2500\u2500\u2500\u2500\u2500\u2500\u2500\u2500\u2500\u239f\n",
        "  3\u22c5\\Delta{T}\u23a0"
       ]
      }
     ],
     "prompt_number": 7
    },
    {
     "cell_type": "markdown",
     "metadata": {},
     "source": [
      "### TERM 5: $\\Delta\\phi_{i}\\Delta\\fdot_{i}$\n",
      "\\begin{align}\n",
      "\\Delta\\phi_{i}\\Delta\\f_{i} & = 2\\pi\\left(\\s{k=1}{i-1}(i-k)\\tn\\f_{k}\\dT + \\frac{1}{2}\\s{k=1}{i-1}\\left(i-k\\right)^{2}\\tn\\fdot_{k}\\dT^{2}\\right)\\left(\\s{l=1}{i}\\tn\\fdot_{l} \\right)  \\notag\\\\\n",
      "& = 2\\pi\\left(\\frac{1}{2}\\s{k=1}{i-1}\\s{l=1}{i}\\left((i-k)^{2}\\right)\\tn\\fdot_{k}\\tn\\fdot_{l}\\dT^{2}\n",
      "\\right)\n",
      "\\end{align}\n",
      "\n",
      "$$\n",
      "E\\left[\\Delta\\phi_{i}\\tn\\fdot_{i}\\right]  = \\pi\\s{k=1}{i-1}(i-k)^{2}\\sigS\\dT^{2}\n",
      "$$"
     ]
    },
    {
     "cell_type": "code",
     "collapsed": false,
     "input": [
      "exp5 = pi * sigmaF1 **2 * dT**2 * summation((i-k)**2, (k, 1, i-1))\n",
      "TERM5 = summation(exp5, (i, 1, N))\n",
      "TERM5 = TERM5.expand().subs(sigmaF1**2 * dT **2, AF1/dT**2).subs(sigmaF0**2 * dT**2, AF0).collect([AF0, AF1])\n",
      "TERM5"
     ],
     "language": "python",
     "metadata": {},
     "outputs": [
      {
       "latex": [
        "$$A_{{\\dot{f}}} \\left(\\frac{\\pi N^{4}}{12 \\Delta{T}^{2}} - \\frac{\\pi N^{2}}{12 \\Delta{T}^{2}}\\right)$$"
       ],
       "metadata": {},
       "output_type": "pyout",
       "png": "[encoded data removed]",
       "prompt_number": 8,
       "text": [
        "            \u239b        4               2    \u239e\n",
        "            \u239c     \u03c0\u22c5N             \u03c0\u22c5N     \u239f\n",
        "A_{\\dot{f}}\u22c5\u239c\u2500\u2500\u2500\u2500\u2500\u2500\u2500\u2500\u2500\u2500\u2500\u2500\u2500 - \u2500\u2500\u2500\u2500\u2500\u2500\u2500\u2500\u2500\u2500\u2500\u2500\u2500\u239f\n",
        "            \u239c            2               2\u239f\n",
        "            \u239d12\u22c5\\Delta{T}    12\u22c5\\Delta{T} \u23a0"
       ]
      }
     ],
     "prompt_number": 8
    },
    {
     "cell_type": "markdown",
     "metadata": {},
     "source": [
      "### TERM 6: $\\Delta\\f_{i}\\Delta\\fdot_{i}$\n",
      "\n",
      "\\begin{align}\n",
      "\\Delta\\f_{i}\\Delta\\fdot_{i} & = \\left(\\s{k=1}{i}\\tn\\f_{k} + \\s{k=1}{i-1}(i-k)\\tn\\fdot_{k}\\dT\\right)\\left(\\s{l=1}{i}\\tn\\fdot_{l} \\right)  \\notag\\\\\n",
      "& = \\s{k=1}{i-1}\\s{l=1}{i}(i-k)\\tn\\fdot_{k} \\tn\\fdot_{l}\\dT \n",
      "\\end{align}\n",
      "\n",
      "$$\n",
      "E[\\Delta\\f_{i}\\Delta\\fdot_{i}] = \\s{k=1}{i-1}(i-k)\\sigS \\dT\n",
      "$$"
     ]
    },
    {
     "cell_type": "code",
     "collapsed": false,
     "input": [
      "exp6 = sigmaF1**2 * dT * summation(i-k, (k, 1, i-1))\n",
      "TERM6 = summation(exp6, (i, 1, N))\n",
      "TERM6 = TERM6.expand().subs(sigmaF1**2 * dT, AF1/dT**3).collect([AF0, AF1])\n",
      "TERM6"
     ],
     "language": "python",
     "metadata": {},
     "outputs": [
      {
       "latex": [
        "$$A_{{\\dot{f}}} \\left(\\frac{N^{3}}{6 \\Delta{T}^{3}} - \\frac{N}{6 \\Delta{T}^{3}}\\right)$$"
       ],
       "metadata": {},
       "output_type": "pyout",
       "png": "[encoded data removed]",
       "prompt_number": 9,
       "text": [
        "            \u239b      3                    \u239e\n",
        "            \u239c     N              N      \u239f\n",
        "A_{\\dot{f}}\u22c5\u239c\u2500\u2500\u2500\u2500\u2500\u2500\u2500\u2500\u2500\u2500\u2500\u2500 - \u2500\u2500\u2500\u2500\u2500\u2500\u2500\u2500\u2500\u2500\u2500\u2500\u239f\n",
        "            \u239c           3              3\u239f\n",
        "            \u239d6\u22c5\\Delta{T}    6\u22c5\\Delta{T} \u23a0"
       ]
      }
     ],
     "prompt_number": 9
    },
    {
     "cell_type": "markdown",
     "metadata": {},
     "source": [
      "### TERM 7: $\\Delta\\phi_{i}\\Delta\\phi_{j}$\n",
      "\n",
      "\\begin{align}\n",
      "\\Delta\\phi_{i}\\Delta\\phi_{j} & = \\s{k=1}{i}\\s{l=1}{j}\\tn \\phi_{k}\\tn \\phi_{l} + (2\\pi)^{2}\\left(\\s{k=1}{i-1}\\s{l=1}{j-1}(i-k)(j-l)\\tn\\f_{k}\\tn\\f_{l}\\dT^{2} + \\frac{1}{4}\\s{k=1}{i-1}\\s{l=1}{j-1}(i-k)^{2}(j-l)^{2}\\tn\\fdot_{k}\\tn\\fdot_{l}\\dT^{4}\\right)\n",
      "\\end{align}\n",
      "\n",
      "$$\n",
      "E[\\Delta\\phi_{i}\\Delta\\phi_{j}] = \\sigP j + (2\\pi)^{2}\\left(\n",
      "\\s{l=1}{j-1}(i-l)(j-l)\\sigF \\dT^2 + \\frac{1}{4}\\s{l=1}{j-1}(i-l)^{2}(j-l)^{2}\\sigS \\dT^{4}\n",
      "\\right)\n",
      "$$\n"
     ]
    },
    {
     "cell_type": "code",
     "collapsed": false,
     "input": [
      "exp7 = sigmaP0**2 * j + (2*pi)**2 * (\n",
      "        (sigmaF0 * dT)**2 * summation((i-l)*(j-l), (l, 1, j-1)) + \n",
      "        0.25 * (sigmaF1 * dT**2)**2 * summation((i-l)**2 * (j-l)**2, (l, 1, j-1))\n",
      "        )\n",
      "exp7 = nsimplify(exp7)\n",
      "\n",
      "TERM7 = summation(summation(exp7, (j, 1, i-1)), (i, 1, N))\n",
      "TERM7 = TERM7.expand().subs(sigmaF1**2 * dT **4, AF1).subs(sigmaF0**2 * dT**2, AF0).subs(sigmaP0**2, AP0).collect([AF0, AF1, AP0])\n",
      "TERM7 "
     ],
     "language": "python",
     "metadata": {},
     "outputs": [
      {
       "latex": [
        "$$A_{{\\dot{f}}} \\left(\\frac{\\pi^{2} N^{7}}{126} - \\frac{\\pi^{2} N^{6}}{60} - \\frac{7 \\pi^{2}}{360} N^{5} + \\frac{\\pi^{2} N^{4}}{24} + \\frac{\\pi^{2} N^{3}}{72} - \\frac{\\pi^{2} N^{2}}{40} - \\frac{\\pi^{2} N}{420}\\right) + A_{{\\phi}} \\left(\\frac{N^{3}}{6} - \\frac{N}{6}\\right) + A_{{f}} \\left(\\frac{\\pi^{2} N^{5}}{10} - \\frac{\\pi^{2} N^{4}}{6} - \\frac{\\pi^{2} N^{3}}{6} + \\frac{\\pi^{2} N^{2}}{6} + \\frac{\\pi^{2} N}{15}\\right)$$"
       ],
       "metadata": {},
       "output_type": "pyout",
       "png": "[encoded data removed]",
       "prompt_number": 10,
       "text": [
        "            \u239b 2  7    2  6      2  5    2  4    2  3    2  2    2  \u239e          \n",
        "            \u239c\u03c0 \u22c5N    \u03c0 \u22c5N    7\u22c5\u03c0 \u22c5N    \u03c0 \u22c5N    \u03c0 \u22c5N    \u03c0 \u22c5N    \u03c0 \u22c5N\u239f          \n",
        "A_{\\dot{f}}\u22c5\u239c\u2500\u2500\u2500\u2500\u2500 - \u2500\u2500\u2500\u2500\u2500 - \u2500\u2500\u2500\u2500\u2500\u2500\u2500 + \u2500\u2500\u2500\u2500\u2500 + \u2500\u2500\u2500\u2500\u2500 - \u2500\u2500\u2500\u2500\u2500 - \u2500\u2500\u2500\u2500\u239f + A_{\\phi\n",
        "            \u239d 126      60      360       24      72      40    420 \u23a0          \n",
        "\n",
        "  \u239b 3    \u239e         \u239b 2  5    2  4    2  3    2  2    2  \u239e\n",
        "  \u239cN    N\u239f         \u239c\u03c0 \u22c5N    \u03c0 \u22c5N    \u03c0 \u22c5N    \u03c0 \u22c5N    \u03c0 \u22c5N\u239f\n",
        "}\u22c5\u239c\u2500\u2500 - \u2500\u239f + A_{f}\u22c5\u239c\u2500\u2500\u2500\u2500\u2500 - \u2500\u2500\u2500\u2500\u2500 - \u2500\u2500\u2500\u2500\u2500 + \u2500\u2500\u2500\u2500\u2500 + \u2500\u2500\u2500\u2500\u239f\n",
        "  \u239d6    6\u23a0         \u239d  10      6       6       6      15 \u23a0"
       ]
      }
     ],
     "prompt_number": 10
    },
    {
     "cell_type": "markdown",
     "metadata": {},
     "source": [
      "### TERM 8: $\\Delta\\f_{i}\\Delta\\f_{j}$\n",
      "\n",
      "\\begin{align}\n",
      "\\Delta\\f_{i}\\Delta\\f_{j} & = \\s{k=1}{i}\\s{l=1}{j}\\tn\\f_{k}\\tn\\f_{l} + \\s{k=1}{i-1}\\s{l=1}{j-1}(i-k)(j-l)\\tn\\fdot_{k}\\tn\\fdot_{l}\\dT^{2} \\\\\n",
      "\\end{align}\n",
      "\n",
      "$$E\\left[\\Delta\\f_{i}\\Delta\\f_{j}\\right] =  \\sigF  j + \\Delta T^{2}\\sigS \\s{l=1}{j-1}(i-l)(j-l)$$"
     ]
    },
    {
     "cell_type": "code",
     "collapsed": false,
     "input": [
      "exp8 = sigmaF0**2 * j + (dT * sigmaF1)**2 * summation((i-l) * (j-l), (l, 1, j-1))\n",
      "TERM8 = summation(summation(exp8, (j, 1, i-1)), (i, 1, N))\n",
      "TERM8 = TERM8.expand().subs(sigmaF1**2 * dT **2, AF1/dT**2).subs(sigmaF0**2, AF0/dT**2).collect([AF0, AF1])\n",
      "TERM8 "
     ],
     "language": "python",
     "metadata": {},
     "outputs": [
      {
       "latex": [
        "$$A_{{\\dot{f}}} \\left(\\frac{N^{5}}{40 \\Delta{T}^{2}} - \\frac{N^{4}}{24 \\Delta{T}^{2}} - \\frac{N^{3}}{24 \\Delta{T}^{2}} + \\frac{N^{2}}{24 \\Delta{T}^{2}} + \\frac{N}{60 \\Delta{T}^{2}}\\right) + A_{{f}} \\left(\\frac{N^{3}}{6 \\Delta{T}^{2}} - \\frac{N}{6 \\Delta{T}^{2}}\\right)$$"
       ],
       "metadata": {},
       "output_type": "pyout",
       "png": "[encoded data removed]",
       "prompt_number": 11,
       "text": [
        "            \u239b       5               4               3               2         \n",
        "            \u239c      N               N               N               N          \n",
        "A_{\\dot{f}}\u22c5\u239c\u2500\u2500\u2500\u2500\u2500\u2500\u2500\u2500\u2500\u2500\u2500\u2500\u2500 - \u2500\u2500\u2500\u2500\u2500\u2500\u2500\u2500\u2500\u2500\u2500\u2500\u2500 - \u2500\u2500\u2500\u2500\u2500\u2500\u2500\u2500\u2500\u2500\u2500\u2500\u2500 + \u2500\u2500\u2500\u2500\u2500\u2500\u2500\u2500\u2500\u2500\u2500\u2500\u2500 + \u2500\n",
        "            \u239c            2               2               2               2    \n",
        "            \u239d40\u22c5\\Delta{T}    24\u22c5\\Delta{T}    24\u22c5\\Delta{T}    24\u22c5\\Delta{T}    6\n",
        "\n",
        "            \u239e         \u239b      3                    \u239e\n",
        "     N      \u239f         \u239c     N              N      \u239f\n",
        "\u2500\u2500\u2500\u2500\u2500\u2500\u2500\u2500\u2500\u2500\u2500\u2500\u239f + A_{f}\u22c5\u239c\u2500\u2500\u2500\u2500\u2500\u2500\u2500\u2500\u2500\u2500\u2500\u2500 - \u2500\u2500\u2500\u2500\u2500\u2500\u2500\u2500\u2500\u2500\u2500\u2500\u239f\n",
        "           2\u239f         \u239c           2              2\u239f\n",
        "0\u22c5\\Delta{T} \u23a0         \u239d6\u22c5\\Delta{T}    6\u22c5\\Delta{T} \u23a0"
       ]
      }
     ],
     "prompt_number": 11
    },
    {
     "cell_type": "markdown",
     "metadata": {},
     "source": [
      "### TERM 9: $\\Delta\\fdot_{i}\\Delta\\fdot_{j}$\n",
      "\\begin{align}\n",
      "\\Delta\\fdot_{i}\\Delta\\fdot_{j} & = \\s{k=1}{i}\\s{l=1}{j}\\tn\\fdot_{k}\\tn\\fdot_{l} \\notag\\\\\n",
      "E\\left[ \\Delta\\fdot_{i}\\Delta\\fdot_{j} \\right]& = \\sigS j\n",
      "\\end{align} \n"
     ]
    },
    {
     "cell_type": "code",
     "collapsed": false,
     "input": [
      "exp9 = sigmaF1**2 * j\n",
      "TERM9 = summation(summation(exp9, (j, 1, i-1)), (i, 1, N))\n",
      "TERM9 = TERM9.expand().subs(sigmaF1**2, AF1/dT**4).collect([AF0, AF1])\n",
      "TERM9"
     ],
     "language": "python",
     "metadata": {},
     "outputs": [
      {
       "latex": [
        "$$A_{{\\dot{f}}} \\left(\\frac{N^{3}}{6 \\Delta{T}^{4}} - \\frac{N}{6 \\Delta{T}^{4}}\\right)$$"
       ],
       "metadata": {},
       "output_type": "pyout",
       "png": "[encoded data removed]",
       "prompt_number": 12,
       "text": [
        "            \u239b      3                    \u239e\n",
        "            \u239c     N              N      \u239f\n",
        "A_{\\dot{f}}\u22c5\u239c\u2500\u2500\u2500\u2500\u2500\u2500\u2500\u2500\u2500\u2500\u2500\u2500 - \u2500\u2500\u2500\u2500\u2500\u2500\u2500\u2500\u2500\u2500\u2500\u2500\u239f\n",
        "            \u239c           4              4\u239f\n",
        "            \u239d6\u22c5\\Delta{T}    6\u22c5\\Delta{T} \u23a0"
       ]
      }
     ],
     "prompt_number": 12
    },
    {
     "cell_type": "markdown",
     "metadata": {},
     "source": [
      "### TERM 10: $\\Delta\\phi_{i}\\Delta\\f_{j}$\n",
      "\n",
      "\\begin{align}\n",
      "\\Delta\\phi_{i}\\Delta\\f_{j} & = 2\\pi\\left(\\s{k=1}{i-1}(i-k)\\tn\\f_{k}\\dT + \\frac{1}{2}\\s{k=1}{i-1}(i-k)^{2}\\tn\\fdot_{k}\\dT^{2}\\right)\\left(\\s{l=1}{j}\\tn\\f_{l} + \\s{l=1}{j-1}(j-l)\\tn\\fdot_{l}\\dT\\right)  \\notag\\\\\n",
      "& = 2\\pi\\left(\\s{k=1}{i-1}\\s{l=1}{j}(i-k)\\tn\\f_{k}\\tn\\f_{l}\\dT + \\frac{1}{2}\\s{k=1}{i-1}\\s{l=1}{j-1}(i-k)^{2}(j-l)\\tn\\fdot_{k}\\tn\\fdot_{l}\\dT^{3}\\right)\n",
      "\\end{align}\n",
      "$$E[\\Delta\\phi_{i}\\Delta\\f_{j}]  = 2\\pi\\left(\n",
      "\\s{l=1}{j}(i-l)\\sigF\\dT + \\frac{1}{2}\\s{l=1}{j-1}(i-l)^{2}(j-l)\\sigS \\dT^{3}\n",
      "\\right)$$\n"
     ]
    },
    {
     "cell_type": "code",
     "collapsed": false,
     "input": [
      "exp10 = 2*pi * (\n",
      "        sigmaF0**2 * dT * summation((i-l), (l, 1, j)) + \n",
      "        0.5 * sigmaF1**2 * dT**3 * summation((i-l)**2 * (j-l), (l, 1, j-1)) \n",
      "          )\n",
      "\n",
      "TERM10 = nsimplify(summation(summation(exp10, (j, 1, i-1)), (i, 1, N)))\n",
      "TERM10 = TERM10.expand().subs(sigmaF1**2 * dT **3, AF1/dT).subs(sigmaF0**2 * dT, AF0/dT).collect([AF0, AF1])\n",
      "TERM10"
     ],
     "language": "python",
     "metadata": {},
     "outputs": [
      {
       "latex": [
        "$$A_{{\\dot{f}}} \\left(\\frac{\\pi N^{6}}{60 \\Delta{T}} - \\frac{\\pi N^{5}}{40 \\Delta{T}} - \\frac{\\pi N^{4}}{24 \\Delta{T}} + \\frac{\\pi N^{3}}{24 \\Delta{T}} + \\frac{\\pi N^{2}}{40 \\Delta{T}} - \\frac{\\pi N}{60 \\Delta{T}}\\right) + A_{{f}} \\left(\\frac{\\pi N^{4}}{6 \\Delta{T}} - \\frac{\\pi N^{2}}{6 \\Delta{T}}\\right)$$"
       ],
       "metadata": {},
       "output_type": "pyout",
       "png": "[encoded data removed]",
       "prompt_number": 13,
       "text": [
        "            \u239b       6              5              4              3            \n",
        "            \u239c    \u03c0\u22c5N            \u03c0\u22c5N            \u03c0\u22c5N            \u03c0\u22c5N            \u03c0\n",
        "A_{\\dot{f}}\u22c5\u239c\u2500\u2500\u2500\u2500\u2500\u2500\u2500\u2500\u2500\u2500\u2500\u2500 - \u2500\u2500\u2500\u2500\u2500\u2500\u2500\u2500\u2500\u2500\u2500\u2500 - \u2500\u2500\u2500\u2500\u2500\u2500\u2500\u2500\u2500\u2500\u2500\u2500 + \u2500\u2500\u2500\u2500\u2500\u2500\u2500\u2500\u2500\u2500\u2500\u2500 + \u2500\u2500\u2500\u2500\u2500\n",
        "            \u239d60\u22c5\\Delta{T}   40\u22c5\\Delta{T}   24\u22c5\\Delta{T}   24\u22c5\\Delta{T}   40\u22c5\\D\n",
        "\n",
        "  2                   \u239e         \u239b       4             2   \u239e\n",
        "\u22c5N            \u03c0\u22c5N     \u239f         \u239c    \u03c0\u22c5N           \u03c0\u22c5N    \u239f\n",
        "\u2500\u2500\u2500\u2500\u2500\u2500\u2500 - \u2500\u2500\u2500\u2500\u2500\u2500\u2500\u2500\u2500\u2500\u2500\u2500\u239f + A_{f}\u22c5\u239c\u2500\u2500\u2500\u2500\u2500\u2500\u2500\u2500\u2500\u2500\u2500 - \u2500\u2500\u2500\u2500\u2500\u2500\u2500\u2500\u2500\u2500\u2500\u239f\n",
        "elta{T}   60\u22c5\\Delta{T}\u23a0         \u239d6\u22c5\\Delta{T}   6\u22c5\\Delta{T}\u23a0"
       ]
      }
     ],
     "prompt_number": 13
    },
    {
     "cell_type": "markdown",
     "metadata": {},
     "source": [
      "### TERM 11: $\\Delta\\f_{i}\\Delta\\phi_{j}$\n",
      "\n",
      "\\begin{align}\n",
      "\\Delta\\phi_{j}\\Delta\\f_{i} & = 2\\pi\\left(\\s{k=1}{j-1}(j-k)\\tn\\f_{k}\\dT + \\frac{1}{2}\\s{k=1}{j-1}(j-k)^{2}\\tn\\fdot_{k}\\dT^{2}\\right)\\left(\\s{l=1}{i}\\tn\\f_{l} + \\s{l=1}{i-1}(i-l)\\tn\\fdot_{l}\\dT\\right)  \\notag\\\\\n",
      "& = 2\\pi\\left(\\s{k=1}{j-1}\\s{l=1}{i}(j-k)\\tn\\f_{k}\\tn\\f_{l}\\dT + \\frac{1}{2}\\s{k=1}{j-1}\\s{l=1}{i-1}(j-k)^{2}(i-l)\\tn\\fdot_{k}\\tn\\fdot_{l}\\dT^{3}\\right)\n",
      "\\end{align}\n",
      "$$E[\\Delta\\phi_{j}\\Delta\\f_{i}]  = 2\\pi\\left(\n",
      "\\s{l=1}{j-1}(j-l)\\sigF\\dT + \\frac{1}{2}\\s{l=1}{j-1}(i-l)(j-l)^{2}\\sigS \\dT^{3}\n",
      "\\right)$$"
     ]
    },
    {
     "cell_type": "code",
     "collapsed": false,
     "input": [
      "exp11 = 2*pi * (\n",
      "        sigmaF0**2 * dT * summation((j-l), (l, 1, j-1)) + \n",
      "        0.5 * sigmaF1**2 * dT**3 * summation((i-l) * (j-l)**2, (l, 1, j-1)) \n",
      "          )\n",
      "\n",
      "TERM11 = nsimplify(summation(summation(exp11, (j, 1, i-1)), (i, 1, N)))\n",
      "TERM11 = TERM11.expand().subs(sigmaF1**2 * dT **3, AF1/dT).subs(sigmaF0**2 * dT, AF0/dT).collect([AF0, AF1])\n",
      "TERM11"
     ],
     "language": "python",
     "metadata": {},
     "outputs": [
      {
       "latex": [
        "$$A_{{\\dot{f}}} \\left(\\frac{\\pi N^{6}}{90 \\Delta{T}} - \\frac{\\pi N^{5}}{40 \\Delta{T}} - \\frac{\\pi N^{4}}{72 \\Delta{T}} + \\frac{\\pi N^{3}}{24 \\Delta{T}} + \\frac{\\pi N^{2}}{360 \\Delta{T}} - \\frac{\\pi N}{60 \\Delta{T}}\\right) + A_{{f}} \\left(\\frac{\\pi N^{4}}{12 \\Delta{T}} - \\frac{\\pi N^{3}}{6 \\Delta{T}} - \\frac{\\pi N^{2}}{12 \\Delta{T}} + \\frac{\\pi N}{6 \\Delta{T}}\\right)$$"
       ],
       "metadata": {},
       "output_type": "pyout",
       "png": "[encoded data removed]",
       "prompt_number": 14,
       "text": [
        "            \u239b       6              5              4              3            \n",
        "            \u239c    \u03c0\u22c5N            \u03c0\u22c5N            \u03c0\u22c5N            \u03c0\u22c5N             \n",
        "A_{\\dot{f}}\u22c5\u239c\u2500\u2500\u2500\u2500\u2500\u2500\u2500\u2500\u2500\u2500\u2500\u2500 - \u2500\u2500\u2500\u2500\u2500\u2500\u2500\u2500\u2500\u2500\u2500\u2500 - \u2500\u2500\u2500\u2500\u2500\u2500\u2500\u2500\u2500\u2500\u2500\u2500 + \u2500\u2500\u2500\u2500\u2500\u2500\u2500\u2500\u2500\u2500\u2500\u2500 + \u2500\u2500\u2500\u2500\u2500\n",
        "            \u239d90\u22c5\\Delta{T}   40\u22c5\\Delta{T}   72\u22c5\\Delta{T}   24\u22c5\\Delta{T}   360\u22c5\\\n",
        "\n",
        "   2                   \u239e         \u239b       4              3             2       \n",
        "\u03c0\u22c5N            \u03c0\u22c5N     \u239f         \u239c    \u03c0\u22c5N            \u03c0\u22c5N           \u03c0\u22c5N        \n",
        "\u2500\u2500\u2500\u2500\u2500\u2500\u2500\u2500 - \u2500\u2500\u2500\u2500\u2500\u2500\u2500\u2500\u2500\u2500\u2500\u2500\u239f + A_{f}\u22c5\u239c\u2500\u2500\u2500\u2500\u2500\u2500\u2500\u2500\u2500\u2500\u2500\u2500 - \u2500\u2500\u2500\u2500\u2500\u2500\u2500\u2500\u2500\u2500\u2500 - \u2500\u2500\u2500\u2500\u2500\u2500\u2500\u2500\u2500\u2500\u2500\u2500 + \n",
        "Delta{T}   60\u22c5\\Delta{T}\u23a0         \u239d12\u22c5\\Delta{T}   6\u22c5\\Delta{T}   12\u22c5\\Delta{T}   \n",
        "\n",
        "           \u239e\n",
        "    \u03c0\u22c5N    \u239f\n",
        "\u2500\u2500\u2500\u2500\u2500\u2500\u2500\u2500\u2500\u2500\u2500\u239f\n",
        "6\u22c5\\Delta{T}\u23a0"
       ]
      }
     ],
     "prompt_number": 14
    },
    {
     "cell_type": "markdown",
     "metadata": {},
     "source": [
      "### TERM 12: $\\Delta\\phi_{i}\\Delta\\fdot_{j}$\n",
      "\n",
      "\\begin{align}\n",
      "\\Delta\\phi_{i}\\Delta\\f_{j} & = 2\\pi\\left(\\s{k=1}{i-1}(i-k)\\tn\\f_{k}\\dT + \\frac{1}{2}\\s{k=1}{i-1}(i-k)^{2}\\tn\\fdot_{k}\\dT^{2}\\right)\\left(\\s{l=1}{j}\\tn\\fdot_{l} \\right)  \\notag\\\\\n",
      "& = 2\\pi\\left(\\frac{1}{2}\\s{k=1}{i-1}\\s{l=1}{j}(i-k)^{2}\\tn\\fdot_{k}\\tn\\fdot_{l}\\dT^{2}\n",
      "\\right)\n",
      "\\end{align}\n",
      "\n",
      "$$\n",
      "E\\left[\\Delta\\phi_{i}\\tn\\fdot_{j}\\right]  = \\pi\\s{k=1}{j}(i-k)^{2}\\sigS\\dT^{2}\n",
      "$$\n"
     ]
    },
    {
     "cell_type": "code",
     "collapsed": false,
     "input": [
      "exp12 = pi * sigmaF1 **2 * dT**2 * summation((i-k)**2, (k, 1, j))\n",
      "TERM12 = summation(summation(exp12, (j, 1, i-1)), (i, 1, N))\n",
      "TERM12 = TERM12.expand().subs(sigmaF1**2 * dT **2, AF1/dT**2).subs(sigmaF0**2 * dT**2, AF0).collect([AF0, AF1])\n",
      "TERM12"
     ],
     "language": "python",
     "metadata": {},
     "outputs": [
      {
       "latex": [
        "$$A_{{\\dot{f}}} \\left(\\frac{\\pi N^{5}}{20 \\Delta{T}^{2}} - \\frac{\\pi N^{3}}{12 \\Delta{T}^{2}} + \\frac{\\pi N}{30 \\Delta{T}^{2}}\\right)$$"
       ],
       "metadata": {},
       "output_type": "pyout",
       "png": "[encoded data removed]",
       "prompt_number": 15,
       "text": [
        "            \u239b        5               3                    \u239e\n",
        "            \u239c     \u03c0\u22c5N             \u03c0\u22c5N             \u03c0\u22c5N     \u239f\n",
        "A_{\\dot{f}}\u22c5\u239c\u2500\u2500\u2500\u2500\u2500\u2500\u2500\u2500\u2500\u2500\u2500\u2500\u2500 - \u2500\u2500\u2500\u2500\u2500\u2500\u2500\u2500\u2500\u2500\u2500\u2500\u2500 + \u2500\u2500\u2500\u2500\u2500\u2500\u2500\u2500\u2500\u2500\u2500\u2500\u2500\u239f\n",
        "            \u239c            2               2               2\u239f\n",
        "            \u239d20\u22c5\\Delta{T}    12\u22c5\\Delta{T}    30\u22c5\\Delta{T} \u23a0"
       ]
      }
     ],
     "prompt_number": 15
    },
    {
     "cell_type": "markdown",
     "metadata": {},
     "source": [
      "### TERM 13: $\\Delta\\phi_{i}\\Delta\\fdot_{j}$\n",
      "\n",
      "\\begin{align}\n",
      "\\Delta\\phi_{j}\\Delta\\f_{i} & = 2\\pi\\left(\\s{k=1}{j-1}(j-k)\\tn\\f_{k}\\dT + \\frac{1}{2}\\s{k=1}{j-1}(j-k)^{2}\\tn\\fdot_{k}\\dT^{2}\\right)\\left(\\s{l=1}{i}\\tn\\fdot_{l} \\right) \\\\\n",
      "& = 2\\pi\\left(\\frac{1}{2}\\s{k=1}{j-1}\\s{l=1}{i}(j-k)^{2}\\tn\\fdot_{k}\\tn\\fdot_{l}\\dT^{2}\n",
      "\\right)\n",
      "\\end{align}\n",
      "\n",
      "$$\n",
      "E\\left[\\Delta\\phi_{i}\\tn\\fdot_{i}\\right]  = \\pi\\s{k=1}{j-1}(j-k)^{2}\\sigS\\dT^{2}\n",
      "$$\n"
     ]
    },
    {
     "cell_type": "code",
     "collapsed": false,
     "input": [
      "exp13 = pi * sigmaF1 **2 * dT**2 * summation((j-k)**2, (k, 1, j-1))\n",
      "TERM13 = summation(summation(exp13, (j, 1, i-1)), (i, 1, N))\n",
      "TERM13 = TERM13.expand().subs(sigmaF1**2 * dT **2, AF1/dT**2).subs(sigmaF0**2 * dT**2, AF0).collect([AF0, AF1])\n",
      "TERM13"
     ],
     "language": "python",
     "metadata": {},
     "outputs": [
      {
       "latex": [
        "$$A_{{\\dot{f}}} \\left(\\frac{\\pi N^{5}}{60 \\Delta{T}^{2}} - \\frac{\\pi N^{4}}{24 \\Delta{T}^{2}} + \\frac{\\pi N^{2}}{24 \\Delta{T}^{2}} - \\frac{\\pi N}{60 \\Delta{T}^{2}}\\right)$$"
       ],
       "metadata": {},
       "output_type": "pyout",
       "png": "[encoded data removed]",
       "prompt_number": 16,
       "text": [
        "            \u239b        5               4               2                    \u239e\n",
        "            \u239c     \u03c0\u22c5N             \u03c0\u22c5N             \u03c0\u22c5N             \u03c0\u22c5N     \u239f\n",
        "A_{\\dot{f}}\u22c5\u239c\u2500\u2500\u2500\u2500\u2500\u2500\u2500\u2500\u2500\u2500\u2500\u2500\u2500 - \u2500\u2500\u2500\u2500\u2500\u2500\u2500\u2500\u2500\u2500\u2500\u2500\u2500 + \u2500\u2500\u2500\u2500\u2500\u2500\u2500\u2500\u2500\u2500\u2500\u2500\u2500 - \u2500\u2500\u2500\u2500\u2500\u2500\u2500\u2500\u2500\u2500\u2500\u2500\u2500\u239f\n",
        "            \u239c            2               2               2               2\u239f\n",
        "            \u239d60\u22c5\\Delta{T}    24\u22c5\\Delta{T}    24\u22c5\\Delta{T}    60\u22c5\\Delta{T} \u23a0"
       ]
      }
     ],
     "prompt_number": 16
    },
    {
     "cell_type": "markdown",
     "metadata": {},
     "source": [
      "### TERM 14: $\\Delta \\f_{i} \\Delta\\fdot_{j}$\n",
      "\n",
      "\\begin{align}\n",
      "\\Delta\\f_{i}\\Delta\\fdot_{j} & = \\left(\\s{k=1}{i}\\tn\\f_{k} + \\s{k=1}{i-1}(i-k)\\tn\\fdot_{k}\\dT\\right)\\left(\\s{l=1}{j}\\tn\\fdot_{l} \\right)  \\notag\\\\\n",
      "& = \\s{k=1}{i-1}\\s{l=1}{j}(i-k)\\tn\\fdot_{k} \\tn\\fdot_{l}\\dT \n",
      "\\end{align}\n",
      "\n",
      "$$\n",
      "E[\\Delta\\f_{i}\\Delta\\fdot_{i}] = \\sigS \\dT \\s{k=1}{j}(i-k)\n",
      "$$\n"
     ]
    },
    {
     "cell_type": "code",
     "collapsed": false,
     "input": [
      "exp14 = sigmaF1 **2 * dT * summation(i-k, (k, 1, j))\n",
      "TERM14 = summation(summation(exp14, (j, 1, i-1)), (i, 1, N))\n",
      "TERM14 = TERM14.expand().subs(sigmaF1**2 * dT, AF1/dT**3).collect([AF0, AF1])\n",
      "TERM14"
     ],
     "language": "python",
     "metadata": {},
     "outputs": [
      {
       "latex": [
        "$$A_{{\\dot{f}}} \\left(\\frac{N^{4}}{12 \\Delta{T}^{3}} - \\frac{N^{2}}{12 \\Delta{T}^{3}}\\right)$$"
       ],
       "metadata": {},
       "output_type": "pyout",
       "png": "[encoded data removed]",
       "prompt_number": 17,
       "text": [
        "            \u239b       4               2     \u239e\n",
        "            \u239c      N               N      \u239f\n",
        "A_{\\dot{f}}\u22c5\u239c\u2500\u2500\u2500\u2500\u2500\u2500\u2500\u2500\u2500\u2500\u2500\u2500\u2500 - \u2500\u2500\u2500\u2500\u2500\u2500\u2500\u2500\u2500\u2500\u2500\u2500\u2500\u239f\n",
        "            \u239c            3               3\u239f\n",
        "            \u239d12\u22c5\\Delta{T}    12\u22c5\\Delta{T} \u23a0"
       ]
      }
     ],
     "prompt_number": 17
    },
    {
     "cell_type": "markdown",
     "metadata": {},
     "source": [
      "### TERM 15: $\\Delta \\f_{j} \\Delta\\fdot_{i}$\n",
      "\n",
      "\\begin{align}\n",
      "\\Delta\\f_{j}\\Delta\\fdot_{i} & = \\left(\\s{k=1}{j}\\tn\\f_{k} + \\s{k=1}{j-1}(j-k)\\tn\\fdot_{k}\\dT\\right)\\left(\\s{l=1}{i}\\tn\\fdot_{l} \\right)  \\notag\\\\\n",
      "& = \\s{k=1}{j-1}\\s{l=1}{i}(j-k)\\tn\\fdot_{k} \\tn\\fdot_{l}\\dT \n",
      "\\end{align}\n",
      "\n",
      "$$\n",
      "E[\\Delta\\f_{j}\\Delta\\fdot_{i}] = \\sigS \\dT \\s{k=1}{j-1}(j-k)\n",
      "$$\n"
     ]
    },
    {
     "cell_type": "code",
     "collapsed": false,
     "input": [
      "exp15 = sigmaF1 **2 * dT * summation(j-k, (k, 1, j-1))\n",
      "TERM15 = summation(summation(exp15, (j, 1, i-1)), (i, 1, N))\n",
      "TERM15 = TERM15.expand().subs(sigmaF1**2 * dT, AF1/dT**3).collect([AF0, AF1])\n",
      "TERM15"
     ],
     "language": "python",
     "metadata": {},
     "outputs": [
      {
       "latex": [
        "$$A_{{\\dot{f}}} \\left(\\frac{N^{4}}{24 \\Delta{T}^{3}} - \\frac{N^{3}}{12 \\Delta{T}^{3}} - \\frac{N^{2}}{24 \\Delta{T}^{3}} + \\frac{N}{12 \\Delta{T}^{3}}\\right)$$"
       ],
       "metadata": {},
       "output_type": "pyout",
       "png": "[encoded data removed]",
       "prompt_number": 18,
       "text": [
        "            \u239b       4               3               2                     \u239e\n",
        "            \u239c      N               N               N               N      \u239f\n",
        "A_{\\dot{f}}\u22c5\u239c\u2500\u2500\u2500\u2500\u2500\u2500\u2500\u2500\u2500\u2500\u2500\u2500\u2500 - \u2500\u2500\u2500\u2500\u2500\u2500\u2500\u2500\u2500\u2500\u2500\u2500\u2500 - \u2500\u2500\u2500\u2500\u2500\u2500\u2500\u2500\u2500\u2500\u2500\u2500\u2500 + \u2500\u2500\u2500\u2500\u2500\u2500\u2500\u2500\u2500\u2500\u2500\u2500\u2500\u239f\n",
        "            \u239c            3               3               3               3\u239f\n",
        "            \u239d24\u22c5\\Delta{T}    12\u22c5\\Delta{T}    24\u22c5\\Delta{T}    12\u22c5\\Delta{T} \u23a0"
       ]
      }
     ],
     "prompt_number": 18
    },
    {
     "cell_type": "markdown",
     "metadata": {},
     "source": [
      "# Coefficients\n",
      "We now write out the terms of the metric, note the $g_{\\alpha\\beta}^{E}$ refer to the metric $g_{\\alpha\\beta i j}$ with $i=j$ and $g_{\\alpha\\beta}^{NE}$  when $i\\ne j$. To simplify things the symbolic maths program will be given the metric in terms  of $N = T/\\dT$.\n",
      "\n",
      "\\begin{equation}\n",
      "g_{\\alpha\\beta ij}  =  \\left[\\begin{array}{ccc}\n",
      "\\delta_{ij}N^{-1}  -N^{-2}  &\n",
      "\\pi\\dT \\left( \\delta_{ij}N^{-1} - N^{-2}\\right)&  \n",
      "\\frac{\\dT^{2}\\pi}{3} \\left( \\delta_{ij}N^{-1} - N^{-2}\\right)\\\\\n",
      "\\pi\\dT \\left( \\delta_{ij}N^{-1} - N^{-2}\\right)& \n",
      "\\pi^{2}\\dT^{2}\\left(\\delta_{ij}\\frac{4N^{-1}}{3} - N^{-2}\\right) & \n",
      "\\pi^{2}\\dT^{3}\\left(\\delta_{ij}\\frac{N^{-1}}{2} - \\frac{N^{-2}}{3}\\right) \\\\\n",
      "\\frac{\\dT^{2}\\pi}{3} \\left( \\delta_{ij}N^{-1} - N^{-2}\\right) &\n",
      "\\pi^{2}\\dT^{3}\\left(\\delta_{ij}\\frac{N^{-1}}{2} - \\frac{N^{-2}}{3}\\right)  &\n",
      "\\pi^{2}\\dT^{4}\\left(\\frac{N^{-1}}{5} - \\frac{N^{-2}}{9}\\right) \\\\\n",
      "\\end{array}\n",
      "\\right]^{\\alpha, \\beta}\n",
      "\\end{equation}\n",
      "\n",
      "\n"
     ]
    },
    {
     "cell_type": "code",
     "collapsed": false,
     "input": [
      "Ninv = 1/N\n",
      "\n",
      "gE00 = (Ninv) - (Ninv)**2\n",
      "gE01 = pi * dT * (Ninv - Ninv**2)\n",
      "gE02 = nsimplify(pi * dT **2 * (Ninv - Ninv**2) / 3.0)\n",
      "gE10 = gE01\n",
      "gE11 = nsimplify((pi * dT) **2 * ((4.0/3.0) * Ninv - Ninv**2))\n",
      "gE12 = nsimplify(pi**2 * dT **3 * (0.5 * Ninv - Ninv**2 / 3.0))\n",
      "gE20 = gE02\n",
      "gE21 = gE12\n",
      "gE22 = nsimplify(pi**2 * dT **4 * (Ninv/5.0 - (Ninv**2)/9.0))\n",
      "\n",
      "gNE00 = - (Ninv)**2\n",
      "gNE01 = - pi * dT * (Ninv**2)\n",
      "gNE02 = - nsimplify(pi * dT **2 * (Ninv**2) / 3.0)\n",
      "gNE10 = gNE01\n",
      "gNE11 = - nsimplify((pi * dT) **2 * (Ninv**2))\n",
      "gNE12 = - nsimplify(pi**2 * dT **3 * (Ninv**2 / 3.0))\n",
      "gNE20 = gNE02\n",
      "gNE21 = gNE12\n",
      "gNE22 = - nsimplify(pi**2 * dT **4 * ((Ninv**2)/9.0))\n"
     ],
     "language": "python",
     "metadata": {},
     "outputs": [],
     "prompt_number": 19
    },
    {
     "cell_type": "markdown",
     "metadata": {},
     "source": [
      "# Combining terms"
     ]
    },
    {
     "cell_type": "code",
     "collapsed": false,
     "input": [
      "# Add the terms up \n",
      "TERM1_TERM7 = gE00 * TERM1 + 2 * gNE00 * TERM7\n",
      "TERM1_TERM7 = TERM1_TERM7.expand().collect([AF0, AF1])\n",
      "\n",
      "TERM2_TERM8 = gE11 * TERM2 + 2 * gNE11 * TERM8\n",
      "TERM2_TERM8 = TERM2_TERM8.expand().collect([AF0, AF1])\n",
      "\n",
      "TERM3_TERM9 = gE22* TERM3 +  2 * gNE22 * TERM9\n",
      "TERM3_TERM9 = TERM3_TERM9.expand().collect([AF0, AF1])\n",
      "\n",
      "TERM4_TERM10_TERM11 = 2 * gE01 * TERM4 + 2 * (gNE01 * TERM10 + gNE10 * TERM11)\n",
      "TERM4_TERM10_TERM11 = TERM4_TERM10_TERM11.expand().collect([AF0, AF1])\n",
      "\n",
      "TERM5_TERM12_TERM13 = 2 * gE02 * TERM5 + 2 * (gNE02 * TERM12 + gNE20 * TERM13)\n",
      "TERM5_TERM12_TERM13 = TERM5_TERM12_TERM13.expand().collect([AF0, AF1]).nsimplify()\n",
      "\n",
      "TERM6_TERM14_TERM15 = 2 * gE12 * TERM6 + 2* (gNE12 * TERM14 + gNE21 * TERM15)\n",
      "TERM6_TERM14_TERM15 = TERM6_TERM14_TERM15.expand().collect([AF0, AF1])"
     ],
     "language": "python",
     "metadata": {},
     "outputs": [],
     "prompt_number": 20
    },
    {
     "cell_type": "code",
     "collapsed": false,
     "input": [
      "# Combine as the expectation\n",
      "exp_m = (TERM1_TERM7 + TERM2_TERM8 + TERM3_TERM9 + \n",
      "         TERM4_TERM10_TERM11 + TERM5_TERM12_TERM13 + TERM6_TERM14_TERM15\n",
      "         )\n",
      "  \n",
      "term = nsimplify(simplify(exp_m))\n",
      "term = term.expand().collect([AF0, AF1, AP0])\n",
      "term"
     ],
     "language": "python",
     "metadata": {},
     "outputs": [
      {
       "latex": [
        "$$A_{{\\dot{f}}} \\left(\\frac{11 \\pi^{2}}{630} N^{5} + \\frac{2 \\pi^{2}}{45} N^{4} + \\frac{\\pi^{2} N^{3}}{36} + \\frac{\\pi^{2} N}{540} - \\frac{\\pi^{2}}{378 N}\\right) + A_{{\\phi}} \\left(\\frac{N}{6} - \\frac{1}{6 N}\\right) + A_{{f}} \\left(\\frac{2 \\pi^{2}}{15} N^{3} + \\frac{\\pi^{2} N^{2}}{6} + \\frac{\\pi^{2}}{30 N}\\right)$$"
       ],
       "metadata": {},
       "output_type": "pyout",
       "png": "[encoded data removed]",
       "prompt_number": 21,
       "text": [
        "            \u239b    2  5      2  4    2  3    2        2 \u239e                       \n",
        "            \u239c11\u22c5\u03c0 \u22c5N    2\u22c5\u03c0 \u22c5N    \u03c0 \u22c5N    \u03c0 \u22c5N     \u03c0  \u239f            \u239bN    1 \u239e  \n",
        "A_{\\dot{f}}\u22c5\u239c\u2500\u2500\u2500\u2500\u2500\u2500\u2500\u2500 + \u2500\u2500\u2500\u2500\u2500\u2500\u2500 + \u2500\u2500\u2500\u2500\u2500 + \u2500\u2500\u2500\u2500 - \u2500\u2500\u2500\u2500\u2500\u239f + A_{\\phi}\u22c5\u239c\u2500 - \u2500\u2500\u2500\u239f +\n",
        "            \u239d  630         45       36    540    378\u22c5N\u23a0            \u239d6   6\u22c5N\u23a0  \n",
        "\n",
        "       \u239b   2  3    2  2     2 \u239e\n",
        "       \u239c2\u22c5\u03c0 \u22c5N    \u03c0 \u22c5N     \u03c0  \u239f\n",
        " A_{f}\u22c5\u239c\u2500\u2500\u2500\u2500\u2500\u2500\u2500 + \u2500\u2500\u2500\u2500\u2500 + \u2500\u2500\u2500\u2500\u239f\n",
        "       \u239d   15       6     30\u22c5N\u23a0"
       ]
      }
     ],
     "prompt_number": 21
    },
    {
     "cell_type": "markdown",
     "metadata": {},
     "source": [
      "## Get python version"
     ]
    },
    {
     "cell_type": "code",
     "collapsed": false,
     "input": [
      "print_python(nsimplify(term.coeff(AP0)))"
     ],
     "language": "python",
     "metadata": {},
     "outputs": [
      {
       "output_type": "stream",
       "stream": "stdout",
       "text": [
        "N = Symbol('N')\n",
        "e = N/6 - 1/(6*N)\n"
       ]
      }
     ],
     "prompt_number": 22
    },
    {
     "cell_type": "code",
     "collapsed": false,
     "input": [
      "print_python(simplify(term.coeff(AF0)))"
     ],
     "language": "python",
     "metadata": {},
     "outputs": [
      {
       "output_type": "stream",
       "stream": "stdout",
       "text": [
        "N = Symbol('N')\n",
        "e = pi**2*(N**3*(4*N + 5) + 1)/(30*N)\n"
       ]
      }
     ],
     "prompt_number": 23
    },
    {
     "cell_type": "code",
     "collapsed": false,
     "input": [
      "print_python(simplify(term.coeff(AF1)))"
     ],
     "language": "python",
     "metadata": {},
     "outputs": [
      {
       "output_type": "stream",
       "stream": "stdout",
       "text": [
        "N = Symbol('N')\n",
        "e = pi**2*(N**2*(66*N**4 + 168*N**3 + 105*N**2 + 7) - 10)/(3780*N)\n"
       ]
      }
     ],
     "prompt_number": 24
    },
    {
     "cell_type": "markdown",
     "metadata": {},
     "source": [
      "## Getting Latex version"
     ]
    },
    {
     "cell_type": "code",
     "collapsed": false,
     "input": [
      "simple_form = factor_terms(AP0 * term.coeff(AP0)) + factor_terms(AF0 * term.coeff(AF0)) + AF1 * factor_terms(term.coeff(AF1))\n",
      "simple_form"
     ],
     "language": "python",
     "metadata": {},
     "outputs": [
      {
       "latex": [
        "$$\\frac{\\pi^{2} A_{{\\dot{f}}}}{3780} \\left(66 N^{5} + 168 N^{4} + 105 N^{3} + 7 N - \\frac{10}{N}\\right) + \\frac{A_{{\\phi}}}{6} \\left(N - \\frac{1}{N}\\right) + \\frac{\\pi^{2} A_{{f}}}{30} \\left(4 N^{3} + 5 N^{2} + \\frac{1}{N}\\right)$$"
       ],
       "metadata": {},
       "output_type": "pyout",
       "png": "[encoded data removed]",
       "prompt_number": 25,
       "text": [
        " 2             \u239b    5        4        3         10\u239e            \u239b    1\u239e    2   \n",
        "\u03c0 \u22c5A_{\\dot{f}}\u22c5\u239c66\u22c5N  + 168\u22c5N  + 105\u22c5N  + 7\u22c5N - \u2500\u2500\u239f   A_{\\phi}\u22c5\u239cN - \u2500\u239f   \u03c0 \u22c5A_\n",
        "               \u239d                                N \u23a0            \u239d    N\u23a0        \n",
        "\u2500\u2500\u2500\u2500\u2500\u2500\u2500\u2500\u2500\u2500\u2500\u2500\u2500\u2500\u2500\u2500\u2500\u2500\u2500\u2500\u2500\u2500\u2500\u2500\u2500\u2500\u2500\u2500\u2500\u2500\u2500\u2500\u2500\u2500\u2500\u2500\u2500\u2500\u2500\u2500\u2500\u2500\u2500\u2500\u2500\u2500\u2500\u2500\u2500\u2500\u2500 + \u2500\u2500\u2500\u2500\u2500\u2500\u2500\u2500\u2500\u2500\u2500\u2500\u2500\u2500\u2500\u2500 + \u2500\u2500\u2500\u2500\u2500\n",
        "                        3780                                 6                \n",
        "\n",
        "    \u239b   3      2   1\u239e\n",
        "{f}\u22c5\u239c4\u22c5N  + 5\u22c5N  + \u2500\u239f\n",
        "    \u239d              N\u23a0\n",
        "\u2500\u2500\u2500\u2500\u2500\u2500\u2500\u2500\u2500\u2500\u2500\u2500\u2500\u2500\u2500\u2500\u2500\u2500\u2500\u2500\u2500\n",
        "       30            "
       ]
      }
     ],
     "prompt_number": 25
    },
    {
     "cell_type": "code",
     "collapsed": false,
     "input": [
      "print latex(simple_form, mode=\"equation\")"
     ],
     "language": "python",
     "metadata": {},
     "outputs": [
      {
       "output_type": "stream",
       "stream": "stdout",
       "text": [
        "\\begin{equation}\\frac{\\pi^{2} A_{{\\dot{f}}}}{3780} \\left(66 N^{5} + 168 N^{4} + 105 N^{3} + 7 N - \\frac{10}{N}\\right) + \\frac{A_{{\\phi}}}{6} \\left(N - \\frac{1}{N}\\right) + \\frac{\\pi^{2} A_{{f}}}{30} \\left(4 N^{3} + 5 N^{2} + \\frac{1}{N}\\right)\\end{equation}\n"
       ]
      }
     ],
     "prompt_number": 26
    },
    {
     "cell_type": "code",
     "collapsed": false,
     "input": [],
     "language": "python",
     "metadata": {},
     "outputs": [],
     "prompt_number": 26
    }
   ],
   "metadata": {}
  }
 ]
}